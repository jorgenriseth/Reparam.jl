{
 "cells": [
  {
   "cell_type": "code",
   "execution_count": 58,
   "metadata": {},
   "outputs": [],
   "source": [
    "using Reparam\n",
    "using Plots\n",
    "using ForwardDiff: derivative"
   ]
  },
  {
   "cell_type": "code",
   "execution_count": 63,
   "metadata": {},
   "outputs": [
    {
     "name": "stdout",
     "output_type": "stream",
     "text": [
      "Variables\n",
      "  #self#\u001b[36m::Core.Compiler.Const(F, false)\u001b[39m\n",
      "  x\u001b[36m::Float64\u001b[39m\n",
      "\n",
      "Body\u001b[36m::Float64\u001b[39m\n",
      "\u001b[90m1 ─\u001b[39m %1 = (2 * x)\u001b[36m::Float64\u001b[39m\n",
      "\u001b[90m└──\u001b[39m      return %1\n"
     ]
    }
   ],
   "source": [
    "F(x) = 2x\n",
    "@code_warntype F(0.1)"
   ]
  },
  {
   "cell_type": "code",
   "execution_count": 64,
   "metadata": {},
   "outputs": [
    {
     "name": "stdout",
     "output_type": "stream",
     "text": [
      "Variables\n",
      "  #self#\u001b[36m::Core.Compiler.Const(dF, false)\u001b[39m\n",
      "  x\u001b[36m::Float64\u001b[39m\n",
      "\n",
      "Body\u001b[36m::Float64\u001b[39m\n",
      "\u001b[90m1 ─\u001b[39m %1 = Main.derivative(Main.F, x)\u001b[36m::Core.Compiler.Const(2.0, false)\u001b[39m\n",
      "\u001b[90m└──\u001b[39m      return %1\n"
     ]
    }
   ],
   "source": [
    "@eval dF(x) = derivative(F, x)\n",
    "@code_warntype dF(0.1)"
   ]
  },
  {
   "cell_type": "code",
   "execution_count": 79,
   "metadata": {},
   "outputs": [
    {
     "name": "stdout",
     "output_type": "stream",
     "text": [
      "Variables\n",
      "  D\u001b[36m::Diffeomorphism{Reparametrization{Reparam.BasisExpansion{Reparam.FourierSineBasisFunction}}}\u001b[39m\n",
      "  x\u001b[36m::Float64\u001b[39m\n",
      "  out\u001b[36m::Float64\u001b[39m\n",
      "  @_4\u001b[33m\u001b[1m::Union{Nothing, Tuple{Int64,Int64}}\u001b[22m\u001b[39m\n",
      "  i\u001b[36m::Int64\u001b[39m\n",
      "\n",
      "Body\u001b[36m::Float64\u001b[39m\n",
      "\u001b[90m1 ─\u001b[39m       (out = x)\n",
      "\u001b[90m│  \u001b[39m %2  = Base.getproperty(D, :V)\u001b[36m::Array{Reparametrization{Reparam.BasisExpansion{Reparam.FourierSineBasisFunction}},1}\u001b[39m\n",
      "\u001b[90m│  \u001b[39m %3  = Reparam.length(%2)\u001b[36m::Int64\u001b[39m\n",
      "\u001b[90m│  \u001b[39m %4  = (%3:-1:1)\u001b[36m::Core.Compiler.PartialStruct(StepRange{Int64,Int64}, Any[Int64, Core.Compiler.Const(-1, false), Int64])\u001b[39m\n",
      "\u001b[90m│  \u001b[39m       (@_4 = Base.iterate(%4))\n",
      "\u001b[90m│  \u001b[39m %6  = (@_4 === nothing)\u001b[36m::Bool\u001b[39m\n",
      "\u001b[90m│  \u001b[39m %7  = Base.not_int(%6)\u001b[36m::Bool\u001b[39m\n",
      "\u001b[90m└──\u001b[39m       goto #4 if not %7\n",
      "\u001b[90m2 ┄\u001b[39m %9  = @_4::Tuple{Int64,Int64}\u001b[36m::Tuple{Int64,Int64}\u001b[39m\n",
      "\u001b[90m│  \u001b[39m       (i = Core.getfield(%9, 1))\n",
      "\u001b[90m│  \u001b[39m %11 = Core.getfield(%9, 2)\u001b[36m::Int64\u001b[39m\n",
      "\u001b[90m│  \u001b[39m %12 = Base.getproperty(D, :V)\u001b[36m::Array{Reparametrization{Reparam.BasisExpansion{Reparam.FourierSineBasisFunction}},1}\u001b[39m\n",
      "\u001b[90m│  \u001b[39m %13 = Base.getindex(%12, i)\u001b[36m::Reparametrization{Reparam.BasisExpansion{Reparam.FourierSineBasisFunction}}\u001b[39m\n",
      "\u001b[90m│  \u001b[39m       (out = (%13)(out))\n",
      "\u001b[90m│  \u001b[39m       (@_4 = Base.iterate(%4, %11))\n",
      "\u001b[90m│  \u001b[39m %16 = (@_4 === nothing)\u001b[36m::Bool\u001b[39m\n",
      "\u001b[90m│  \u001b[39m %17 = Base.not_int(%16)\u001b[36m::Bool\u001b[39m\n",
      "\u001b[90m└──\u001b[39m       goto #4 if not %17\n",
      "\u001b[90m3 ─\u001b[39m       goto #2\n",
      "\u001b[90m4 ┄\u001b[39m       return out\n"
     ]
    }
   ],
   "source": [
    "I = GaussLegendre(128)\n",
    "proj = FourierProjector(4)\n",
    "γ = Diffeomorphism(proj)\n",
    "\n",
    "\n",
    "@code_warntype γ(0.2)"
   ]
  },
  {
   "cell_type": "code",
   "execution_count": 90,
   "metadata": {},
   "outputs": [
    {
     "name": "stdout",
     "output_type": "stream",
     "text": [
      "6.699141029773826e18\n",
      "  0.000070 seconds (37 allocations: 1.156 KiB)\n",
      "-2.767061645954571e25\n",
      "  0.000075 seconds (37 allocations: 1.297 KiB)\n",
      "9.114962697656883e16\n",
      "  0.000064 seconds (36 allocations: 1.109 KiB)\n",
      "1.7164143441124573e28\n",
      "  0.000168 seconds (159 allocations: 11.453 KiB)\n"
     ]
    }
   ],
   "source": [
    "@time println(d_eval(γ, 0.1))\n",
    "φ = Reparametrization(Reparam.BasisExpansion(rand(4), FourierSineBasis(4)))\n",
    "Reparam.update!(γ, φ)\n",
    "@time println(d_eval(γ, 0.1))\n",
    "φ = Reparametrization(Reparam.BasisExpansion(rand(4), FourierSineBasis(4)))\n",
    "Reparam.update!(γ, φ)\n",
    "@time println(d_eval(γ, 0.1))\n",
    "φ = Reparametrization(Reparam.BasisExpansion(rand(4), FourierSineBasis(4)))\n",
    "Reparam.update!(γ, φ)\n",
    "@time println(d_eval(γ, 0.1))"
   ]
  },
  {
   "cell_type": "code",
   "execution_count": 91,
   "metadata": {},
   "outputs": [
    {
     "name": "stdout",
     "output_type": "stream",
     "text": [
      "Variables\n",
      "  #self#\u001b[36m::Core.Compiler.Const(d_eval, false)\u001b[39m\n",
      "  f\u001b[36m::Diffeomorphism{Reparametrization{Reparam.BasisExpansion{Reparam.FourierSineBasisFunction}}}\u001b[39m\n",
      "  x\u001b[36m::Float64\u001b[39m\n",
      "\n",
      "Body\u001b[36m::Float64\u001b[39m\n",
      "\u001b[90m1 ─\u001b[39m %1 = Main.derivative(f, x)\u001b[36m::Float64\u001b[39m\n",
      "\u001b[90m└──\u001b[39m      return %1\n"
     ]
    }
   ],
   "source": [
    "@code_warntype d_eval(γ, 0.1)"
   ]
  },
  {
   "cell_type": "code",
   "execution_count": null,
   "metadata": {},
   "outputs": [],
   "source": [
    "@vode "
   ]
  },
  {
   "cell_type": "code",
   "execution_count": 75,
   "metadata": {},
   "outputs": [
    {
     "name": "stdout",
     "output_type": "stream",
     "text": [
      "Variables\n",
      "  #self#\u001b[36m::Core.Compiler.Const(d_eval, false)\u001b[39m\n",
      "  f\u001b[36m::Diffeomorphism{Reparametrization{Reparam.BasisExpansion{Reparam.FourierSineBasisFunction}}}\u001b[39m\n",
      "  x\u001b[36m::Float64\u001b[39m\n",
      "\n",
      "Body\u001b[36m::Float64\u001b[39m\n",
      "\u001b[90m1 ─\u001b[39m %1 = Main.derivative(f, x)\u001b[36m::Float64\u001b[39m\n",
      "\u001b[90m└──\u001b[39m      return %1\n"
     ]
    }
   ],
   "source": [
    "d_eval(f, x) = derivative(f, x)\n",
    "@code_warntype d_eval(γ, 0.1)"
   ]
  },
  {
   "cell_type": "code",
   "execution_count": 74,
   "metadata": {},
   "outputs": [
    {
     "name": "stdout",
     "output_type": "stream",
     "text": [
      "Variables\n",
      "  #self#\u001b[36m::Core.Compiler.Const(ForwardDiff.derivative, false)\u001b[39m\n",
      "  f\u001b[36m::Diffeomorphism{Reparametrization{Reparam.BasisExpansion{Reparam.FourierSineBasisFunction}}}\u001b[39m\n",
      "  x\u001b[36m::Float64\u001b[39m\n",
      "  T\u001b[36m::Type{ForwardDiff.Tag{Diffeomorphism{Reparametrization{Reparam.BasisExpansion{Reparam.FourierSineBasisFunction}}},Float64}}\u001b[39m\n",
      "\n",
      "Body\u001b[36m::Float64\u001b[39m\n",
      "\u001b[90m1 ─\u001b[39m      nothing\n",
      "\u001b[90m│  \u001b[39m %2 = ForwardDiff.Tag(f, $(Expr(:static_parameter, 2)))\u001b[36m::Core.Compiler.Const(ForwardDiff.Tag{Diffeomorphism{Reparametrization{Reparam.BasisExpansion{Reparam.FourierSineBasisFunction}}},Float64}(), false)\u001b[39m\n",
      "\u001b[90m│  \u001b[39m      (T = ForwardDiff.typeof(%2))\n",
      "\u001b[90m│  \u001b[39m %4 = T::Core.Compiler.Const(ForwardDiff.Tag{Diffeomorphism{Reparametrization{Reparam.BasisExpansion{Reparam.FourierSineBasisFunction}}},Float64}, false)\u001b[36m::Core.Compiler.Const(ForwardDiff.Tag{Diffeomorphism{Reparametrization{Reparam.BasisExpansion{Reparam.FourierSineBasisFunction}}},Float64}, false)\u001b[39m\n",
      "\u001b[90m│  \u001b[39m %5 = Core.apply_type(ForwardDiff.Dual, T::Core.Compiler.Const(ForwardDiff.Tag{Diffeomorphism{Reparametrization{Reparam.BasisExpansion{Reparam.FourierSineBasisFunction}}},Float64}, false))\u001b[36m::Core.Compiler.Const(ForwardDiff.Dual{ForwardDiff.Tag{Diffeomorphism{Reparametrization{Reparam.BasisExpansion{Reparam.FourierSineBasisFunction}}},Float64},V,N} where N where V, false)\u001b[39m\n",
      "\u001b[90m│  \u001b[39m %6 = ForwardDiff.one(x)\u001b[36m::Core.Compiler.Const(1.0, false)\u001b[39m\n",
      "\u001b[90m│  \u001b[39m %7 = (%5)(x, %6)\u001b[36m::Core.Compiler.PartialStruct(ForwardDiff.Dual{ForwardDiff.Tag{Diffeomorphism{Reparametrization{Reparam.BasisExpansion{Reparam.FourierSineBasisFunction}}},Float64},Float64,1}, Any[Float64, Core.Compiler.Const(Partials(1.0,), false)])\u001b[39m\n",
      "\u001b[90m│  \u001b[39m %8 = (f)(%7)\u001b[36m::ForwardDiff.Dual{ForwardDiff.Tag{Diffeomorphism{Reparametrization{Reparam.BasisExpansion{Reparam.FourierSineBasisFunction}}},Float64},Float64,1}\u001b[39m\n",
      "\u001b[90m│  \u001b[39m %9 = ForwardDiff.extract_derivative(%4, %8)\u001b[36m::Float64\u001b[39m\n",
      "\u001b[90m└──\u001b[39m      return %9\n"
     ]
    }
   ],
   "source": [
    "@code_warntype derivative(γ, 0.1)"
   ]
  },
  {
   "cell_type": "code",
   "execution_count": 6,
   "metadata": {},
   "outputs": [
    {
     "name": "stdout",
     "output_type": "stream",
     "text": [
      "Variables\n",
      "  D\u001b[36m::Diffeomorphism{Reparametrization{Reparam.BasisExpansion{Reparam.FourierSineBasisFunction}}}\u001b[39m\n",
      "  x\u001b[36m::Float64\u001b[39m\n",
      "  out\u001b[36m::Float64\u001b[39m\n",
      "  @_4\u001b[33m\u001b[1m::Union{Nothing, Tuple{Int64,Int64}}\u001b[22m\u001b[39m\n",
      "  i\u001b[36m::Int64\u001b[39m\n",
      "\n",
      "Body\u001b[36m::Float64\u001b[39m\n",
      "\u001b[90m1 ─\u001b[39m       (out = x)\n",
      "\u001b[90m│  \u001b[39m %2  = Base.getproperty(D, :V)\u001b[36m::Array{Reparametrization{Reparam.BasisExpansion{Reparam.FourierSineBasisFunction}},1}\u001b[39m\n",
      "\u001b[90m│  \u001b[39m %3  = Reparam.length(%2)\u001b[36m::Int64\u001b[39m\n",
      "\u001b[90m│  \u001b[39m %4  = (%3:-1:1)\u001b[36m::Core.Compiler.PartialStruct(StepRange{Int64,Int64}, Any[Int64, Core.Compiler.Const(-1, false), Int64])\u001b[39m\n",
      "\u001b[90m│  \u001b[39m       (@_4 = Base.iterate(%4))\n",
      "\u001b[90m│  \u001b[39m %6  = (@_4 === nothing)\u001b[36m::Bool\u001b[39m\n",
      "\u001b[90m│  \u001b[39m %7  = Base.not_int(%6)\u001b[36m::Bool\u001b[39m\n",
      "\u001b[90m└──\u001b[39m       goto #4 if not %7\n",
      "\u001b[90m2 ┄\u001b[39m %9  = @_4::Tuple{Int64,Int64}\u001b[36m::Tuple{Int64,Int64}\u001b[39m\n",
      "\u001b[90m│  \u001b[39m       (i = Core.getfield(%9, 1))\n",
      "\u001b[90m│  \u001b[39m %11 = Core.getfield(%9, 2)\u001b[36m::Int64\u001b[39m\n",
      "\u001b[90m│  \u001b[39m %12 = Base.getproperty(D, :V)\u001b[36m::Array{Reparametrization{Reparam.BasisExpansion{Reparam.FourierSineBasisFunction}},1}\u001b[39m\n",
      "\u001b[90m│  \u001b[39m %13 = Base.getindex(%12, i)\u001b[36m::Reparametrization{Reparam.BasisExpansion{Reparam.FourierSineBasisFunction}}\u001b[39m\n",
      "\u001b[90m│  \u001b[39m       (out = (%13)(out))\n",
      "\u001b[90m│  \u001b[39m       (@_4 = Base.iterate(%4, %11))\n",
      "\u001b[90m│  \u001b[39m %16 = (@_4 === nothing)\u001b[36m::Bool\u001b[39m\n",
      "\u001b[90m│  \u001b[39m %17 = Base.not_int(%16)\u001b[36m::Bool\u001b[39m\n",
      "\u001b[90m└──\u001b[39m       goto #4 if not %17\n",
      "\u001b[90m3 ─\u001b[39m       goto #2\n",
      "\u001b[90m4 ┄\u001b[39m       return out\n",
      "Variables\n",
      "  #self#\u001b[36m::Core.Compiler.Const(dγ, false)\u001b[39m\n",
      "  x\u001b[36m::Float64\u001b[39m\n",
      "\n",
      "Body\u001b[91m\u001b[1m::Any\u001b[22m\u001b[39m\n",
      "\u001b[90m1 ─\u001b[39m %1 = Main.derivative(Main.γ, x)\u001b[91m\u001b[1m::Any\u001b[22m\u001b[39m\n",
      "\u001b[90m└──\u001b[39m      return %1\n"
     ]
    }
   ],
   "source": [
    "I = GaussLegendre(128)\n",
    "proj = FourierProjector(4)\n",
    "γ = Diffeomorphism(proj)\n",
    "\n",
    "\n",
    "@code_warntype γ(0.2)\n",
    "\n",
    "dγ(x) = derivative(γ, x)\n",
    "\n",
    "\n",
    "@code_warntype dγ(0.1)"
   ]
  },
  {
   "cell_type": "code",
   "execution_count": 9,
   "metadata": {},
   "outputs": [
    {
     "name": "stdout",
     "output_type": "stream",
     "text": [
      "Variables\n",
      "  D\u001b[36m::Diffeomorphism{Reparametrization{Reparam.BasisExpansion{Reparam.FourierSineBasisFunction}}}\u001b[39m\n",
      "  x\u001b[36m::Float64\u001b[39m\n",
      "  out\u001b[36m::Float64\u001b[39m\n",
      "  @_4\u001b[33m\u001b[1m::Union{Nothing, Tuple{Int64,Int64}}\u001b[22m\u001b[39m\n",
      "  i\u001b[36m::Int64\u001b[39m\n",
      "\n",
      "Body\u001b[36m::Float64\u001b[39m\n",
      "\u001b[90m1 ─\u001b[39m       (out = x)\n",
      "\u001b[90m│  \u001b[39m %2  = Base.getproperty(D, :V)\u001b[36m::Array{Reparametrization{Reparam.BasisExpansion{Reparam.FourierSineBasisFunction}},1}\u001b[39m\n",
      "\u001b[90m│  \u001b[39m %3  = Reparam.length(%2)\u001b[36m::Int64\u001b[39m\n",
      "\u001b[90m│  \u001b[39m %4  = (%3:-1:1)\u001b[36m::Core.Compiler.PartialStruct(StepRange{Int64,Int64}, Any[Int64, Core.Compiler.Const(-1, false), Int64])\u001b[39m\n",
      "\u001b[90m│  \u001b[39m       (@_4 = Base.iterate(%4))\n",
      "\u001b[90m│  \u001b[39m %6  = (@_4 === nothing)\u001b[36m::Bool\u001b[39m\n",
      "\u001b[90m│  \u001b[39m %7  = Base.not_int(%6)\u001b[36m::Bool\u001b[39m\n",
      "\u001b[90m└──\u001b[39m       goto #4 if not %7\n",
      "\u001b[90m2 ┄\u001b[39m %9  = @_4::Tuple{Int64,Int64}\u001b[36m::Tuple{Int64,Int64}\u001b[39m\n",
      "\u001b[90m│  \u001b[39m       (i = Core.getfield(%9, 1))\n",
      "\u001b[90m│  \u001b[39m %11 = Core.getfield(%9, 2)\u001b[36m::Int64\u001b[39m\n",
      "\u001b[90m│  \u001b[39m %12 = Base.getproperty(D, :V)\u001b[36m::Array{Reparametrization{Reparam.BasisExpansion{Reparam.FourierSineBasisFunction}},1}\u001b[39m\n",
      "\u001b[90m│  \u001b[39m %13 = Base.getindex(%12, i)\u001b[36m::Reparametrization{Reparam.BasisExpansion{Reparam.FourierSineBasisFunction}}\u001b[39m\n",
      "\u001b[90m│  \u001b[39m       (out = (%13)(out))\n",
      "\u001b[90m│  \u001b[39m       (@_4 = Base.iterate(%4, %11))\n",
      "\u001b[90m│  \u001b[39m %16 = (@_4 === nothing)\u001b[36m::Bool\u001b[39m\n",
      "\u001b[90m│  \u001b[39m %17 = Base.not_int(%16)\u001b[36m::Bool\u001b[39m\n",
      "\u001b[90m└──\u001b[39m       goto #4 if not %17\n",
      "\u001b[90m3 ─\u001b[39m       goto #2\n",
      "\u001b[90m4 ┄\u001b[39m       return out\n",
      "Variables\n",
      "  #self#\u001b[36m::Core.Compiler.Const(dγ, false)\u001b[39m\n",
      "  x\u001b[36m::Float64\u001b[39m\n",
      "\n",
      "Body\u001b[91m\u001b[1m::Any\u001b[22m\u001b[39m\n",
      "\u001b[90m1 ─\u001b[39m %1 = Main.derivative(Main.γ, x)\u001b[91m\u001b[1m::Any\u001b[22m\u001b[39m\n",
      "\u001b[90m└──\u001b[39m      return %1\n"
     ]
    }
   ],
   "source": [
    "begin\n",
    "    γ = Diffeomorphism(proj)\n",
    "    @code_warntype γ(0.2)\n",
    "    dγ(x) = derivative(γ, x)\n",
    "    @code_warntype dγ(0.1)\n",
    "end"
   ]
  },
  {
   "cell_type": "code",
   "execution_count": 11,
   "metadata": {},
   "outputs": [
    {
     "name": "stdout",
     "output_type": "stream",
     "text": [
      "Variables\n",
      "  R\u001b[36m::Reparametrization{Reparam.BasisExpansion{Reparam.FourierSineBasisFunction}}\u001b[39m\n",
      "  x\u001b[36m::Float64\u001b[39m\n",
      "\n",
      "Body\u001b[36m::Float64\u001b[39m\n",
      "\u001b[90m1 ─\u001b[39m %1 = Base.getproperty(R, :BE)\u001b[36m::Reparam.BasisExpansion{Reparam.FourierSineBasisFunction}\u001b[39m\n",
      "\u001b[90m│  \u001b[39m %2 = (%1)(x)\u001b[36m::Float64\u001b[39m\n",
      "\u001b[90m│  \u001b[39m %3 = (x - %2)\u001b[36m::Float64\u001b[39m\n",
      "\u001b[90m└──\u001b[39m      return %3\n",
      "Variables\n",
      "  #self#\u001b[36m::Core.Compiler.Const(dφ, false)\u001b[39m\n",
      "  x\u001b[36m::Float64\u001b[39m\n",
      "\n",
      "Body\u001b[91m\u001b[1m::Any\u001b[22m\u001b[39m\n",
      "\u001b[90m1 ─\u001b[39m %1 = Main.derivative(Main.φ, x)\u001b[91m\u001b[1m::Any\u001b[22m\u001b[39m\n",
      "\u001b[90m└──\u001b[39m      return %1\n"
     ]
    }
   ],
   "source": [
    "φ = Reparametrization(Reparam.BasisExpansion(rand(4), FourierSineBasis(4)))\n",
    "@code_warntype φ(0.1)\n",
    "dφ(x) = derivative(φ, x)\n",
    "@code_warntype dφ(0.1)"
   ]
  },
  {
   "cell_type": "code",
   "execution_count": 13,
   "metadata": {},
   "outputs": [
    {
     "data": {
      "text/plain": [
       "foo (generic function with 1 method)"
      ]
     },
     "execution_count": 13,
     "metadata": {},
     "output_type": "execute_result"
    }
   ],
   "source": [
    "foo(x) = sin(n*π*x)"
   ]
  },
  {
   "cell_type": "code",
   "execution_count": null,
   "metadata": {},
   "outputs": [],
   "source": [
    "dfoo(x) = "
   ]
  },
  {
   "cell_type": "code",
   "execution_count": 14,
   "metadata": {},
   "outputs": [
    {
     "data": {
      "text/plain": [
       "bar (generic function with 1 method)"
      ]
     },
     "execution_count": 14,
     "metadata": {},
     "output_type": "execute_result"
    }
   ],
   "source": [
    "function bar(x)\n",
    "    u = Reparam.BasisExpansion(rand(4), FourierSineBasis(4))\n",
    "    @code_warntype u(0.1)\n",
    "    du(x) = derivative(u, x)\n",
    "    @code_warntype du(0.1)\n",
    "end"
   ]
  },
  {
   "cell_type": "code",
   "execution_count": 15,
   "metadata": {},
   "outputs": [
    {
     "name": "stdout",
     "output_type": "stream",
     "text": [
      "Variables\n",
      "  BE\u001b[36m::Reparam.BasisExpansion{Reparam.FourierSineBasisFunction}\u001b[39m\n",
      "  x\u001b[36m::Float64\u001b[39m\n",
      "  out\u001b[36m::Float64\u001b[39m\n",
      "  @_4\u001b[33m\u001b[1m::Union{Nothing, Tuple{Int64,Int64}}\u001b[22m\u001b[39m\n",
      "  i\u001b[36m::Int64\u001b[39m\n",
      "\n",
      "Body\u001b[36m::Float64\u001b[39m\n",
      "\u001b[90m1 ─\u001b[39m       (out = 0.0)\n",
      "\u001b[90m│  \u001b[39m %2  = Base.getproperty(BE, :dim)\u001b[36m::Int64\u001b[39m\n",
      "\u001b[90m│  \u001b[39m %3  = (1:%2)\u001b[36m::Core.Compiler.PartialStruct(UnitRange{Int64}, Any[Core.Compiler.Const(1, false), Int64])\u001b[39m\n",
      "\u001b[90m│  \u001b[39m       (@_4 = Base.iterate(%3))\n",
      "\u001b[90m│  \u001b[39m %5  = (@_4 === nothing)\u001b[36m::Bool\u001b[39m\n",
      "\u001b[90m│  \u001b[39m %6  = Base.not_int(%5)\u001b[36m::Bool\u001b[39m\n",
      "\u001b[90m└──\u001b[39m       goto #4 if not %6\n",
      "\u001b[90m2 ┄\u001b[39m %8  = @_4::Tuple{Int64,Int64}\u001b[36m::Tuple{Int64,Int64}\u001b[39m\n",
      "\u001b[90m│  \u001b[39m       (i = Core.getfield(%8, 1))\n",
      "\u001b[90m│  \u001b[39m %10 = Core.getfield(%8, 2)\u001b[36m::Int64\u001b[39m\n",
      "\u001b[90m│  \u001b[39m %11 = out\u001b[36m::Float64\u001b[39m\n",
      "\u001b[90m│  \u001b[39m %12 = Base.getproperty(BE, :W)\u001b[36m::Array{Float64,1}\u001b[39m\n",
      "\u001b[90m│  \u001b[39m %13 = Base.getindex(%12, i)\u001b[36m::Float64\u001b[39m\n",
      "\u001b[90m│  \u001b[39m %14 = Base.getproperty(BE, :B)\u001b[36m::Array{Reparam.FourierSineBasisFunction,1}\u001b[39m\n",
      "\u001b[90m│  \u001b[39m %15 = Base.getindex(%14, i)\u001b[36m::Reparam.FourierSineBasisFunction\u001b[39m\n",
      "\u001b[90m│  \u001b[39m %16 = (%15)(x)\u001b[36m::Float64\u001b[39m\n",
      "\u001b[90m│  \u001b[39m %17 = (%13 * %16)\u001b[36m::Float64\u001b[39m\n",
      "\u001b[90m│  \u001b[39m       (out = %11 + %17)\n",
      "\u001b[90m│  \u001b[39m       (@_4 = Base.iterate(%3, %10))\n",
      "\u001b[90m│  \u001b[39m %20 = (@_4 === nothing)\u001b[36m::Bool\u001b[39m\n",
      "\u001b[90m│  \u001b[39m %21 = Base.not_int(%20)\u001b[36m::Bool\u001b[39m\n",
      "\u001b[90m└──\u001b[39m       goto #4 if not %21\n",
      "\u001b[90m3 ─\u001b[39m       goto #2\n",
      "\u001b[90m4 ┄\u001b[39m       return out\n",
      "Variables\n",
      "  #self#\u001b[36m::var\"#du#1\"{Reparam.BasisExpansion{Reparam.FourierSineBasisFunction}}\u001b[39m\n",
      "  x\u001b[36m::Float64\u001b[39m\n",
      "\n",
      "Body\u001b[91m\u001b[1m::Any\u001b[22m\u001b[39m\n",
      "\u001b[90m1 ─\u001b[39m %1 = Core.getfield(#self#, :u)\u001b[36m::Reparam.BasisExpansion{Reparam.FourierSineBasisFunction}\u001b[39m\n",
      "\u001b[90m│  \u001b[39m %2 = Main.derivative(%1, x)\u001b[91m\u001b[1m::Any\u001b[22m\u001b[39m\n",
      "\u001b[90m└──\u001b[39m      return %2\n"
     ]
    }
   ],
   "source": [
    "bar(0.1)"
   ]
  },
  {
   "cell_type": "code",
   "execution_count": 40,
   "metadata": {},
   "outputs": [],
   "source": [
    "struct FooBar{T<:Function}; c::T; end\n",
    "(f::FooBar)(x) = f.c(x)"
   ]
  },
  {
   "cell_type": "code",
   "execution_count": 41,
   "metadata": {},
   "outputs": [
    {
     "data": {
      "text/plain": [
       "FooBar{var\"#25#26\"}(var\"#25#26\"())"
      ]
     },
     "execution_count": 41,
     "metadata": {},
     "output_type": "execute_result"
    }
   ],
   "source": [
    "f = FooBar(x -> x^2)"
   ]
  },
  {
   "cell_type": "code",
   "execution_count": 42,
   "metadata": {},
   "outputs": [
    {
     "data": {
      "text/plain": [
       "bar (generic function with 1 method)"
      ]
     },
     "execution_count": 42,
     "metadata": {},
     "output_type": "execute_result"
    }
   ],
   "source": [
    "function bar(x)\n",
    "    f = FooBar(x->x^2)\n",
    "    display(@code_warntype f(0.1))\n",
    "    fu(x) = derivative(f, x)\n",
    "    @code_warntype fu(0.1)\n",
    "end"
   ]
  },
  {
   "cell_type": "code",
   "execution_count": 45,
   "metadata": {},
   "outputs": [
    {
     "data": {
      "text/plain": [
       "nothing"
      ]
     },
     "metadata": {},
     "output_type": "display_data"
    },
    {
     "name": "stdout",
     "output_type": "stream",
     "text": [
      "Variables\n",
      "  f\u001b[36m::Core.Compiler.Const(FooBar{var\"#27#28\"}(var\"#27#28\"()), false)\u001b[39m\n",
      "  x\u001b[36m::Float64\u001b[39m\n",
      "\n",
      "Body\u001b[36m::Float64\u001b[39m\n",
      "\u001b[90m1 ─\u001b[39m %1 = Base.getproperty(f, :c)\u001b[36m::Core.Compiler.Const(var\"#27#28\"(), false)\u001b[39m\n",
      "\u001b[90m│  \u001b[39m %2 = (%1)(x)\u001b[36m::Float64\u001b[39m\n",
      "\u001b[90m└──\u001b[39m      return %2\n",
      "Variables\n",
      "  #self#\u001b[36m::Core.Compiler.Const(var\"#fu#29\"{FooBar{var\"#27#28\"}}(FooBar{var\"#27#28\"}(var\"#27#28\"())), false)\u001b[39m\n",
      "  x\u001b[36m::Float64\u001b[39m\n",
      "\n",
      "Body\u001b[91m\u001b[1m::Any\u001b[22m\u001b[39m\n",
      "\u001b[90m1 ─\u001b[39m %1 = Core.getfield(#self#, :f)\u001b[36m::Core.Compiler.Const(FooBar{var\"#27#28\"}(var\"#27#28\"()), false)\u001b[39m\n",
      "\u001b[90m│  \u001b[39m %2 = Main.derivative(%1, x)\u001b[91m\u001b[1m::Any\u001b[22m\u001b[39m\n",
      "\u001b[90m└──\u001b[39m      return %2\n"
     ]
    }
   ],
   "source": [
    "bar(0.1)"
   ]
  },
  {
   "cell_type": "code",
   "execution_count": 51,
   "metadata": {},
   "outputs": [],
   "source": [
    "struct Bazz <: Function; x::Float64; end\n",
    "(f::Baz)(x) = f.x * x"
   ]
  },
  {
   "cell_type": "code",
   "execution_count": 52,
   "metadata": {},
   "outputs": [
    {
     "data": {
      "text/plain": [
       "Baz(2.0)"
      ]
     },
     "execution_count": 52,
     "metadata": {},
     "output_type": "execute_result"
    }
   ],
   "source": [
    "g = Baz(2.)"
   ]
  },
  {
   "cell_type": "code",
   "execution_count": 53,
   "metadata": {},
   "outputs": [
    {
     "name": "stdout",
     "output_type": "stream",
     "text": [
      "Variables\n",
      "  f\u001b[36m::Baz\u001b[39m\n",
      "  x\u001b[36m::Float64\u001b[39m\n",
      "\n",
      "Body\u001b[36m::Float64\u001b[39m\n",
      "\u001b[90m1 ─\u001b[39m %1 = Base.getproperty(f, :x)\u001b[36m::Float64\u001b[39m\n",
      "\u001b[90m│  \u001b[39m %2 = (%1 * x)\u001b[36m::Float64\u001b[39m\n",
      "\u001b[90m└──\u001b[39m      return %2\n"
     ]
    }
   ],
   "source": [
    "@code_warntype g(0.2)"
   ]
  },
  {
   "cell_type": "code",
   "execution_count": 54,
   "metadata": {},
   "outputs": [
    {
     "name": "stdout",
     "output_type": "stream",
     "text": [
      "Variables\n",
      "  #self#\u001b[36m::Core.Compiler.Const(gu, false)\u001b[39m\n",
      "  x\u001b[36m::Float64\u001b[39m\n",
      "\n",
      "Body\u001b[91m\u001b[1m::Any\u001b[22m\u001b[39m\n",
      "\u001b[90m1 ─\u001b[39m %1 = Main.derivative(Main.f, x)\u001b[91m\u001b[1m::Any\u001b[22m\u001b[39m\n",
      "\u001b[90m└──\u001b[39m      return %1\n"
     ]
    }
   ],
   "source": [
    "gu(x) = derivative(f, x)\n",
    "@code_warntype gu(0.1)"
   ]
  },
  {
   "cell_type": "code",
   "execution_count": 43,
   "metadata": {},
   "outputs": [
    {
     "name": "stdout",
     "output_type": "stream",
     "text": [
      "Variables\n",
      "  f\u001b[36m::Core.Compiler.Const(FooBar{var\"#30#31\"}(var\"#30#31\"()), false)\u001b[39m\n",
      "  x\u001b[36m::Float64\u001b[39m\n",
      "\n",
      "Body\u001b[36m::Float64\u001b[39m\n",
      "\u001b[90m1 ─\u001b[39m %1 = Base.getproperty(f, :c)\u001b[36m::Core.Compiler.Const(var\"#30#31\"(), false)\u001b[39m\n",
      "\u001b[90m│  \u001b[39m %2 = (%1)(x)\u001b[36m::Float64\u001b[39m\n",
      "\u001b[90m└──\u001b[39m      return %2\n"
     ]
    }
   ],
   "source": [
    "f = FooBar(x->x^2)\n",
    "@code_warntype f(0.1)"
   ]
  },
  {
   "cell_type": "code",
   "execution_count": 44,
   "metadata": {},
   "outputs": [
    {
     "name": "stdout",
     "output_type": "stream",
     "text": [
      "Variables\n",
      "  #self#\u001b[36m::Core.Compiler.Const(fu, false)\u001b[39m\n",
      "  x\u001b[36m::Float64\u001b[39m\n",
      "\n",
      "Body\u001b[91m\u001b[1m::Any\u001b[22m\u001b[39m\n",
      "\u001b[90m1 ─\u001b[39m %1 = Main.derivative(Main.f, x)\u001b[91m\u001b[1m::Any\u001b[22m\u001b[39m\n",
      "\u001b[90m└──\u001b[39m      return %1\n"
     ]
    }
   ],
   "source": [
    "fu(x) = derivative(f, x)\n",
    "@code_warntype fu(0.1)"
   ]
  },
  {
   "cell_type": "code",
   "execution_count": 161,
   "metadata": {},
   "outputs": [
    {
     "name": "stdout",
     "output_type": "stream",
     "text": [
      "1.4801490911675198e52\n",
      "  0.000083 seconds (37 allocations: 1.156 KiB)\n",
      "1.4801490911675198e52\n",
      "  0.000068 seconds (37 allocations: 1.312 KiB)\n",
      "1.0366085014316166e57\n",
      "  0.000066 seconds (36 allocations: 1.109 KiB)\n",
      "1.0366085014316166e57\n",
      "  0.000168 seconds (159 allocations: 11.453 KiB)\n",
      "-6.366266678636644e53\n",
      "  0.000070 seconds (37 allocations: 1.312 KiB)\n",
      "-6.366266678636644e53\n",
      "  0.000057 seconds (36 allocations: 1.109 KiB)\n"
     ]
    }
   ],
   "source": [
    "@time println(dγ(0.1))\n",
    "@time println(dγ(0.1))\n",
    "φ = Reparametrization(Reparam.BasisExpansion(rand(4), FourierSineBasis(4)))\n",
    "Reparam.update!(γ, φ)\n",
    "@time println(dγ(0.1))\n",
    "@time println(dγ(0.1))\n",
    "φ = Reparametrization(Reparam.BasisExpansion(rand(4), FourierSineBasis(4)))\n",
    "Reparam.update!(γ, φ)\n",
    "@time println(dγ(0.1))\n",
    "@time println(dγ(0.1))"
   ]
  },
  {
   "cell_type": "code",
   "execution_count": 168,
   "metadata": {},
   "outputs": [
    {
     "name": "stdout",
     "output_type": "stream",
     "text": [
      "Variables\n",
      "  #self#\u001b[36m::Core.Compiler.Const(dγ, false)\u001b[39m\n",
      "  x\u001b[36m::Float64\u001b[39m\n",
      "\n",
      "Body\u001b[91m\u001b[1m::Any\u001b[22m\u001b[39m\n",
      "\u001b[90m1 ─\u001b[39m %1 = Main.derivative(Main.γ, x)\u001b[91m\u001b[1m::Any\u001b[22m\u001b[39m\n",
      "\u001b[90m└──\u001b[39m      return %1\n"
     ]
    }
   ],
   "source": [
    "@code_warntype dγ(0.2)"
   ]
  },
  {
   "cell_type": "code",
   "execution_count": 128,
   "metadata": {},
   "outputs": [
    {
     "name": "stdout",
     "output_type": "stream",
     "text": [
      "  0.000005 seconds (1 allocation: 16 bytes)\n",
      "  0.000005 seconds (2 allocations: 32 bytes)\n"
     ]
    },
    {
     "data": {
      "text/plain": [
       "187.64045783268568"
      ]
     },
     "execution_count": 128,
     "metadata": {},
     "output_type": "execute_result"
    }
   ],
   "source": [
    "@time γ(0.1)\n",
    "φ = Reparametrization(Reparam.BasisExpansion(rand(4), FourierSineBasis(4)))\n",
    "Reparam.update!(γ, φ)\n",
    "@time dγ(0.1)"
   ]
  },
  {
   "cell_type": "code",
   "execution_count": 37,
   "metadata": {},
   "outputs": [
    {
     "name": "stdout",
     "output_type": "stream",
     "text": [
      "  0.000099 seconds (1 allocation: 16 bytes)\n"
     ]
    },
    {
     "data": {
      "text/plain": [
       "2.754361539906302"
      ]
     },
     "execution_count": 37,
     "metadata": {},
     "output_type": "execute_result"
    }
   ],
   "source": [
    "@time I(γ, Reparam.L2Norm())"
   ]
  },
  {
   "cell_type": "code",
   "execution_count": 72,
   "metadata": {},
   "outputs": [
    {
     "name": "stdout",
     "output_type": "stream",
     "text": [
      "  0.000245 seconds (1.02 k allocations: 16.016 KiB)\n"
     ]
    },
    {
     "data": {
      "text/plain": [
       "2.010064875475087e10"
      ]
     },
     "execution_count": 72,
     "metadata": {},
     "output_type": "execute_result"
    }
   ],
   "source": [
    "@time I(dγ, dγ, Reparam.L2InnerProduct())"
   ]
  },
  {
   "cell_type": "code",
   "execution_count": 74,
   "metadata": {},
   "outputs": [
    {
     "data": {
      "text/plain": [
       "2-element Array{Float64,1}:\n",
       " 0.0\n",
       " 0.0"
      ]
     },
     "execution_count": 74,
     "metadata": {},
     "output_type": "execute_result"
    }
   ],
   "source": [
    "zeros(2)"
   ]
  },
  {
   "cell_type": "code",
   "execution_count": 76,
   "metadata": {},
   "outputs": [
    {
     "data": {
      "text/plain": [
       "Curve"
      ]
     },
     "execution_count": 76,
     "metadata": {},
     "output_type": "execute_result"
    }
   ],
   "source": [
    "struct Curve{T<:Function}\n",
    "    c::T\n",
    "    x::Vector{Float64}\n",
    "end\n",
    "\n",
    "Curve(c::Function) = Curve(c, zeros(2))"
   ]
  },
  {
   "cell_type": "code",
   "execution_count": 122,
   "metadata": {},
   "outputs": [
    {
     "data": {
      "text/plain": [
       "c1! (generic function with 1 method)"
      ]
     },
     "execution_count": 122,
     "metadata": {},
     "output_type": "execute_result"
    }
   ],
   "source": [
    "c1!(y, x) = begin y[1] = x; y[2] = 2*x end"
   ]
  },
  {
   "cell_type": "code",
   "execution_count": 124,
   "metadata": {},
   "outputs": [
    {
     "name": "stdout",
     "output_type": "stream",
     "text": [
      "  0.000003 seconds (1 allocation: 16 bytes)\n"
     ]
    },
    {
     "data": {
      "text/plain": [
       "0.2"
      ]
     },
     "execution_count": 124,
     "metadata": {},
     "output_type": "execute_result"
    }
   ],
   "source": [
    "y = zeros(2)\n",
    "@time c1!(y, 0.1)\n",
    "\n",
    "dc1!(y, x) = ForwardDiff.derivative "
   ]
  },
  {
   "cell_type": "code",
   "execution_count": null,
   "metadata": {},
   "outputs": [],
   "source": []
  },
  {
   "cell_type": "code",
   "execution_count": null,
   "metadata": {},
   "outputs": [],
   "source": []
  },
  {
   "cell_type": "code",
   "execution_count": 32,
   "metadata": {},
   "outputs": [
    {
     "data": {
      "text/plain": [
       "6-element Array{Reparametrization{Reparam.BasisExpansion{Reparam.FourierSineBasisFunction}},1}:\n",
       " (::Reparametrization{Reparam.BasisExpansion{Reparam.FourierSineBasisFunction}}) (generic function with 1 method)\n",
       " (::Reparametrization{Reparam.BasisExpansion{Reparam.FourierSineBasisFunction}}) (generic function with 1 method)\n",
       " (::Reparametrization{Reparam.BasisExpansion{Reparam.FourierSineBasisFunction}}) (generic function with 1 method)\n",
       " (::Reparametrization{Reparam.BasisExpansion{Reparam.FourierSineBasisFunction}}) (generic function with 1 method)\n",
       " (::Reparametrization{Reparam.BasisExpansion{Reparam.FourierSineBasisFunction}}) (generic function with 1 method)\n",
       " (::Reparametrization{Reparam.BasisExpansion{Reparam.FourierSineBasisFunction}}) (generic function with 1 method)"
      ]
     },
     "execution_count": 32,
     "metadata": {},
     "output_type": "execute_result"
    }
   ],
   "source": [
    "γ.V"
   ]
  }
 ],
 "metadata": {
  "@webio": {
   "lastCommId": null,
   "lastKernelId": null
  },
  "kernelspec": {
   "display_name": "Julia 1.5.1",
   "language": "julia",
   "name": "julia-1.5"
  },
  "language_info": {
   "file_extension": ".jl",
   "mimetype": "application/julia",
   "name": "julia",
   "version": "1.5.1"
  }
 },
 "nbformat": 4,
 "nbformat_minor": 4
}
