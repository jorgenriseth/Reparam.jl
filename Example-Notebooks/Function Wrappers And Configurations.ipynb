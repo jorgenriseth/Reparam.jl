{
 "cells": [
  {
   "cell_type": "markdown",
   "metadata": {},
   "source": [
    "## Type Stability in Struct Types"
   ]
  },
  {
   "cell_type": "code",
   "execution_count": 70,
   "metadata": {},
   "outputs": [
    {
     "name": "stdout",
     "output_type": "stream",
     "text": [
      "  0.000026 seconds (1 allocation: 16 bytes)\n",
      "  0.000095 seconds (5.00 k allocations: 78.125 KiB)\n"
     ]
    },
    {
     "name": "stderr",
     "output_type": "stream",
     "text": [
      "WARNING: replacing module Foo.\n"
     ]
    },
    {
     "data": {
      "text/plain": [
       "-0.6222974665918023"
      ]
     },
     "execution_count": 70,
     "metadata": {},
     "output_type": "execute_result"
    }
   ],
   "source": [
    "module Foo\n",
    "\n",
    "struct Bar{TI <: Integer, TF <: AbstractFloat, F}\n",
    "    N::TI\n",
    "    W::Vector{TF}\n",
    "    B::F\n",
    "end\n",
    "\n",
    "end #module\n",
    "\n",
    "\n",
    "\n",
    "function (f::Foo.Bar)(x::T) where T <: AbstractFloat\n",
    "    out = 0.0\n",
    "    for i in 1:f.N\n",
    "        out += f.W[i] * f.B[i](x)\n",
    "    end\n",
    "    return out\n",
    "end\n",
    "\n",
    "N = 1000\n",
    "W = rand(N)\n",
    "Bf = build_basis(N, fourier_sine)\n",
    "Bp = build_basis(N, palais)\n",
    "\n",
    "\n",
    "f = Foo.Bar(N, W, Bf)\n",
    "g = Foo.Bar(N, W, Bp)\n",
    "\n",
    "f(0.1)\n",
    "g(0.1)\n",
    "# @code_warntype f(0.1)\n",
    "# @code_warntype g(0.1)\n",
    "\n",
    "\n",
    "@time f(0.1)\n",
    "@time g(0.1)\n"
   ]
  },
  {
   "cell_type": "markdown",
   "metadata": {},
   "source": [
    "# Unify Projection Methods and Interpolation"
   ]
  },
  {
   "cell_type": "code",
   "execution_count": 3,
   "metadata": {},
   "outputs": [],
   "source": [
    "using ForwardDiff\n",
    "using Plots\n",
    "using LinearAlgebra"
   ]
  },
  {
   "cell_type": "code",
   "execution_count": 60,
   "metadata": {},
   "outputs": [
    {
     "data": {
      "text/plain": [
       "build_function"
      ]
     },
     "execution_count": 60,
     "metadata": {},
     "output_type": "execute_result"
    }
   ],
   "source": [
    "include(\"src/functionals.jl\")\n",
    "using SpecialFunctions: gamma\n",
    "\n",
    "\"\"\" Function to compute the normalizing constant of the n-th \n",
    "Jacobi-based polynomial\"\"\"\n",
    "function C(n)\n",
    "    return (2^5 / (2n+5))  * (gamma(n+3) * gamma(n+3)) / (32 * gamma(n+5) * factorial(big(n)))\n",
    "end\n",
    "\n",
    "\n",
    "\"\"\" Function to compute the coefficients of the n-th \n",
    "Jacobi-based polynomial\"\"\"\n",
    "function B(n)\n",
    "    return [gamma(n+3) * binomial(n, m) * gamma(n+m+5) / (factorial(big(n)) * gamma(n+5) * gamma(m+3)) for m in 0:n]\n",
    "end\n",
    "\n",
    "\n",
    "\"\"\"Construct the n-th jacobi-based polynomial. Note that \n",
    "the degree of the polynomial is 2 larger than n, n<2.\n",
    "\"\"\"\n",
    "function jacobi_polynomial(n)\n",
    "    # Compute Coefficients in the jacobi polynomial\n",
    "    Cn = C(n)\n",
    "    Bn = [Float64(bi / sqrt(Cn)) for bi in B(n)]\n",
    "    \n",
    "    # Create function\n",
    "    function (x)\n",
    "        out = 0.0\n",
    "        for m in 0:n\n",
    "            out += Bn[m+1] * (x-1)^m\n",
    "        end\n",
    "        return out * x * (1-x)\n",
    "    end\n",
    "end\n",
    "\n",
    "\n",
    "function palais_odd(m::Integer)\n",
    "    function f( x::Float64 )::Float64\n",
    "        return (cos(2π*m*x) - 1) / (sqrt(2) * π * m)\n",
    "    end\n",
    "end\n",
    "\n",
    "function palais_even(m::Integer)\n",
    "    function f(x::Float64)::Float64\n",
    "        return sin(2π*m*x) / (sqrt(2) * π * m)\n",
    "    end\n",
    "end\n",
    "\n",
    "\n",
    "function palais(n)\n",
    "    if n % 2 == 1\n",
    "        return palais_odd(n ÷ 2 +1)\n",
    "    else\n",
    "        m = n ÷ 2\n",
    "        return palais_even(n ÷ 2 + 1)\n",
    "    end\n",
    "end\n",
    "\n",
    "\n",
    "function fourier_sine(n)\n",
    "    function (x)\n",
    "        return sqrt(2) * sin(π*n*x)\n",
    "    end\n",
    "end\n",
    "\n",
    "\n",
    "function build_basis(N, basistype)\n",
    "    if basistype === jacobi_polynomial\n",
    "        return [basistype(n) for n in 0:N-1]\n",
    "    end\n",
    "    return [basistype(n) for n in 1:N]\n",
    "end\n",
    "\n",
    "\n",
    "\"\"\" Function Builder. Takes a vector of basis functions, and a set of weights,\n",
    "and return a function taking the linear combinations of this at x.\"\"\"\n",
    "function build_function(weights, basis)\n",
    "    @assert length(weights) == length(basis) \"weights and basis needs to be same length\"\n",
    "    N = length(weights)\n",
    "    function (x)\n",
    "        out = 0.0\n",
    "        for i in 1:N\n",
    "            out += weights[i] * basis[i](x)\n",
    "        end\n",
    "        return out\n",
    "    end\n",
    "end"
   ]
  },
  {
   "cell_type": "code",
   "execution_count": 5,
   "metadata": {},
   "outputs": [
    {
     "data": {
      "text/plain": [
       "build_basis (generic function with 1 method)"
      ]
     },
     "execution_count": 5,
     "metadata": {},
     "output_type": "execute_result"
    }
   ],
   "source": [
    "function build_basis(N, basistype)\n",
    "    if basistype === jacobi_polynomial\n",
    "        return [basistype(n) for n in 0:N-1]\n",
    "    end\n",
    "    return [basistype(n) for n in 1:N]\n",
    "end"
   ]
  },
  {
   "cell_type": "code",
   "execution_count": 32,
   "metadata": {},
   "outputs": [
    {
     "data": {
      "text/plain": [
       "basis_palais"
      ]
     },
     "execution_count": 32,
     "metadata": {},
     "output_type": "execute_result"
    }
   ],
   "source": [
    "include(\"src/projection.jl\")"
   ]
  },
  {
   "cell_type": "code",
   "execution_count": 33,
   "metadata": {},
   "outputs": [
    {
     "data": {
      "text/plain": [
       "(Any[var\"#122#124\"(Core.Box(1)), var\"#123#125\"(Core.Box(1)), var\"#122#124\"(Core.Box(2)), var\"#123#125\"(Core.Box(2)), var\"#122#124\"(Core.Box(3))],)"
      ]
     },
     "execution_count": 33,
     "metadata": {},
     "output_type": "execute_result"
    }
   ],
   "source": [
    "tuple(basis)"
   ]
  },
  {
   "cell_type": "code",
   "execution_count": 41,
   "metadata": {},
   "outputs": [
    {
     "ename": "LoadError",
     "evalue": "syntax: \"...\" expression outside call around In[41]:1",
     "output_type": "error",
     "traceback": [
      "syntax: \"...\" expression outside call around In[41]:1",
      "",
      "Stacktrace:",
      " [1] top-level scope at In[41]:1",
      " [2] include_string(::Function, ::Module, ::String, ::String) at ./loading.jl:1091"
     ]
    }
   ],
   "source": [
    "(tuple(basis...))"
   ]
  },
  {
   "cell_type": "code",
   "execution_count": 35,
   "metadata": {},
   "outputs": [
    {
     "name": "stdout",
     "output_type": "stream",
     "text": [
      "Variables\n",
      "  #self#\u001b[36m::var\"#212#215\"{Int64}\u001b[39m\n",
      "  x\u001b[36m::Float64\u001b[39m\n",
      "\n",
      "Body\u001b[36m::Float64\u001b[39m\n",
      "\u001b[90m1 ─\u001b[39m %1 = (2 * Main.π)\u001b[36m::Core.Compiler.Const(6.283185307179586, false)\u001b[39m\n",
      "\u001b[90m│  \u001b[39m %2 = Core.getfield(#self#, :m)\u001b[36m::Int64\u001b[39m\n",
      "\u001b[90m│  \u001b[39m %3 = (%1 * %2 * x)\u001b[36m::Float64\u001b[39m\n",
      "\u001b[90m│  \u001b[39m %4 = Main.cos(%3)\u001b[36m::Float64\u001b[39m\n",
      "\u001b[90m│  \u001b[39m %5 = (%4 - 1)\u001b[36m::Float64\u001b[39m\n",
      "\u001b[90m│  \u001b[39m %6 = Main.sqrt(2)\u001b[36m::Float64\u001b[39m\n",
      "\u001b[90m│  \u001b[39m %7 = Core.getfield(#self#, :m)\u001b[36m::Int64\u001b[39m\n",
      "\u001b[90m│  \u001b[39m %8 = (%6 * Main.π * %7)\u001b[36m::Float64\u001b[39m\n",
      "\u001b[90m│  \u001b[39m %9 = (%5 / %8)\u001b[36m::Float64\u001b[39m\n",
      "\u001b[90m└──\u001b[39m      return %9\n",
      "Variables\n",
      "  #self#\u001b[36m::var\"#213#217\"{Int64}\u001b[39m\n",
      "  x\u001b[36m::Float64\u001b[39m\n",
      "\n",
      "Body\u001b[36m::Float64\u001b[39m\n",
      "\u001b[90m1 ─\u001b[39m %1 = (2 * Main.π)\u001b[36m::Core.Compiler.Const(6.283185307179586, false)\u001b[39m\n",
      "\u001b[90m│  \u001b[39m %2 = Core.getfield(#self#, :m)\u001b[36m::Int64\u001b[39m\n",
      "\u001b[90m│  \u001b[39m %3 = (%1 * %2 * x)\u001b[36m::Float64\u001b[39m\n",
      "\u001b[90m│  \u001b[39m %4 = Main.sin(%3)\u001b[36m::Float64\u001b[39m\n",
      "\u001b[90m│  \u001b[39m %5 = Main.sqrt(2)\u001b[36m::Float64\u001b[39m\n",
      "\u001b[90m│  \u001b[39m %6 = Core.getfield(#self#, :m)\u001b[36m::Int64\u001b[39m\n",
      "\u001b[90m│  \u001b[39m %7 = (%5 * Main.π * %6)\u001b[36m::Float64\u001b[39m\n",
      "\u001b[90m│  \u001b[39m %8 = (%4 / %7)\u001b[36m::Float64\u001b[39m\n",
      "\u001b[90m└──\u001b[39m      return %8\n",
      "Variables\n",
      "  #self#\u001b[36m::var\"#212#215\"{Int64}\u001b[39m\n",
      "  x\u001b[36m::Float64\u001b[39m\n",
      "\n",
      "Body\u001b[36m::Float64\u001b[39m\n",
      "\u001b[90m1 ─\u001b[39m %1 = (2 * Main.π)\u001b[36m::Core.Compiler.Const(6.283185307179586, false)\u001b[39m\n",
      "\u001b[90m│  \u001b[39m %2 = Core.getfield(#self#, :m)\u001b[36m::Int64\u001b[39m\n",
      "\u001b[90m│  \u001b[39m %3 = (%1 * %2 * x)\u001b[36m::Float64\u001b[39m\n",
      "\u001b[90m│  \u001b[39m %4 = Main.cos(%3)\u001b[36m::Float64\u001b[39m\n",
      "\u001b[90m│  \u001b[39m %5 = (%4 - 1)\u001b[36m::Float64\u001b[39m\n",
      "\u001b[90m│  \u001b[39m %6 = Main.sqrt(2)\u001b[36m::Float64\u001b[39m\n",
      "\u001b[90m│  \u001b[39m %7 = Core.getfield(#self#, :m)\u001b[36m::Int64\u001b[39m\n",
      "\u001b[90m│  \u001b[39m %8 = (%6 * Main.π * %7)\u001b[36m::Float64\u001b[39m\n",
      "\u001b[90m│  \u001b[39m %9 = (%5 / %8)\u001b[36m::Float64\u001b[39m\n",
      "\u001b[90m└──\u001b[39m      return %9\n",
      "Variables\n",
      "  #self#\u001b[36m::var\"#213#217\"{Int64}\u001b[39m\n",
      "  x\u001b[36m::Float64\u001b[39m\n",
      "\n",
      "Body\u001b[36m::Float64\u001b[39m\n",
      "\u001b[90m1 ─\u001b[39m %1 = (2 * Main.π)\u001b[36m::Core.Compiler.Const(6.283185307179586, false)\u001b[39m\n",
      "\u001b[90m│  \u001b[39m %2 = Core.getfield(#self#, :m)\u001b[36m::Int64\u001b[39m\n",
      "\u001b[90m│  \u001b[39m %3 = (%1 * %2 * x)\u001b[36m::Float64\u001b[39m\n",
      "\u001b[90m│  \u001b[39m %4 = Main.sin(%3)\u001b[36m::Float64\u001b[39m\n",
      "\u001b[90m│  \u001b[39m %5 = Main.sqrt(2)\u001b[36m::Float64\u001b[39m\n",
      "\u001b[90m│  \u001b[39m %6 = Core.getfield(#self#, :m)\u001b[36m::Int64\u001b[39m\n",
      "\u001b[90m│  \u001b[39m %7 = (%5 * Main.π * %6)\u001b[36m::Float64\u001b[39m\n",
      "\u001b[90m│  \u001b[39m %8 = (%4 / %7)\u001b[36m::Float64\u001b[39m\n",
      "\u001b[90m└──\u001b[39m      return %8\n",
      "Variables\n",
      "  #self#\u001b[36m::var\"#212#215\"{Int64}\u001b[39m\n",
      "  x\u001b[36m::Float64\u001b[39m\n",
      "\n",
      "Body\u001b[36m::Float64\u001b[39m\n",
      "\u001b[90m1 ─\u001b[39m %1 = (2 * Main.π)\u001b[36m::Core.Compiler.Const(6.283185307179586, false)\u001b[39m\n",
      "\u001b[90m│  \u001b[39m %2 = Core.getfield(#self#, :m)\u001b[36m::Int64\u001b[39m\n",
      "\u001b[90m│  \u001b[39m %3 = (%1 * %2 * x)\u001b[36m::Float64\u001b[39m\n",
      "\u001b[90m│  \u001b[39m %4 = Main.cos(%3)\u001b[36m::Float64\u001b[39m\n",
      "\u001b[90m│  \u001b[39m %5 = (%4 - 1)\u001b[36m::Float64\u001b[39m\n",
      "\u001b[90m│  \u001b[39m %6 = Main.sqrt(2)\u001b[36m::Float64\u001b[39m\n",
      "\u001b[90m│  \u001b[39m %7 = Core.getfield(#self#, :m)\u001b[36m::Int64\u001b[39m\n",
      "\u001b[90m│  \u001b[39m %8 = (%6 * Main.π * %7)\u001b[36m::Float64\u001b[39m\n",
      "\u001b[90m│  \u001b[39m %9 = (%5 / %8)\u001b[36m::Float64\u001b[39m\n",
      "\u001b[90m└──\u001b[39m      return %9\n",
      "Variables\n",
      "  #self#\u001b[36m::var\"#220#221\"{Array{Float64,1},Tuple{var\"#249#251\",var\"#250#252\",var\"#249#251\",var\"#250#252\",var\"#249#251\"},Int64}\u001b[39m\n",
      "  x\u001b[36m::Float64\u001b[39m\n",
      "  out\u001b[91m\u001b[1m::Any\u001b[22m\u001b[39m\n",
      "  @_4\u001b[33m\u001b[1m::Union{Nothing, Tuple{Int64,Int64}}\u001b[22m\u001b[39m\n",
      "  i\u001b[36m::Int64\u001b[39m\n",
      "\n",
      "Body\u001b[91m\u001b[1m::Any\u001b[22m\u001b[39m\n",
      "\u001b[90m1 ─\u001b[39m       (out = 0.0)\n",
      "\u001b[90m│  \u001b[39m %2  = Core.getfield(#self#, :N)\u001b[36m::Int64\u001b[39m\n",
      "\u001b[90m│  \u001b[39m %3  = (1:%2)\u001b[36m::Core.Compiler.PartialStruct(UnitRange{Int64}, Any[Core.Compiler.Const(1, false), Int64])\u001b[39m\n",
      "\u001b[90m│  \u001b[39m       (@_4 = Base.iterate(%3))\n",
      "\u001b[90m│  \u001b[39m %5  = (@_4 === nothing)\u001b[36m::Bool\u001b[39m\n",
      "\u001b[90m│  \u001b[39m %6  = Base.not_int(%5)\u001b[36m::Bool\u001b[39m\n",
      "\u001b[90m└──\u001b[39m       goto #4 if not %6\n",
      "\u001b[90m2 ┄\u001b[39m %8  = @_4::Tuple{Int64,Int64}\u001b[36m::Tuple{Int64,Int64}\u001b[39m\n",
      "\u001b[90m│  \u001b[39m       (i = Core.getfield(%8, 1))\n",
      "\u001b[90m│  \u001b[39m %10 = Core.getfield(%8, 2)\u001b[36m::Int64\u001b[39m\n",
      "\u001b[90m│  \u001b[39m %11 = out\u001b[91m\u001b[1m::Any\u001b[22m\u001b[39m\n",
      "\u001b[90m│  \u001b[39m %12 = Core.getfield(#self#, :weights)\u001b[36m::Array{Float64,1}\u001b[39m\n",
      "\u001b[90m│  \u001b[39m %13 = Base.getindex(%12, i)\u001b[36m::Float64\u001b[39m\n",
      "\u001b[90m│  \u001b[39m %14 = Core.getfield(#self#, :basis)\u001b[36m::Tuple{var\"#249#251\",var\"#250#252\",var\"#249#251\",var\"#250#252\",var\"#249#251\"}\u001b[39m\n",
      "\u001b[90m│  \u001b[39m %15 = Base.getindex(%14, i)\u001b[91m\u001b[1m::Union{var\"#249#251\", var\"#250#252\"}\u001b[22m\u001b[39m\n",
      "\u001b[90m│  \u001b[39m %16 = (%15)(x)\u001b[91m\u001b[1m::Any\u001b[22m\u001b[39m\n",
      "\u001b[90m│  \u001b[39m %17 = (%13 * %16)\u001b[91m\u001b[1m::Any\u001b[22m\u001b[39m\n",
      "\u001b[90m│  \u001b[39m       (out = %11 + %17)\n",
      "\u001b[90m│  \u001b[39m       (@_4 = Base.iterate(%3, %10))\n",
      "\u001b[90m│  \u001b[39m %20 = (@_4 === nothing)\u001b[36m::Bool\u001b[39m\n",
      "\u001b[90m│  \u001b[39m %21 = Base.not_int(%20)\u001b[36m::Bool\u001b[39m\n",
      "\u001b[90m└──\u001b[39m       goto #4 if not %21\n",
      "\u001b[90m3 ─\u001b[39m       goto #2\n",
      "\u001b[90m4 ┄\u001b[39m       return out\n"
     ]
    }
   ],
   "source": [
    "N = 5\n",
    "basis = build_basis(N, palais)\n",
    "W = rand(N)\n",
    "\n",
    "for bi in basis\n",
    "    @code_warntype bi(0.1)\n",
    "end\n",
    "\n",
    "\n",
    "\n",
    "basis = basis_palais(N)\n",
    "f = build_function(W, tuple(basis...))\n",
    "@code_warntype f(0.1)"
   ]
  },
  {
   "cell_type": "code",
   "execution_count": null,
   "metadata": {},
   "outputs": [],
   "source": [
    "Palais()"
   ]
  },
  {
   "cell_type": "code",
   "execution_count": 68,
   "metadata": {},
   "outputs": [
    {
     "data": {
      "text/plain": [
       "project (generic function with 2 methods)"
      ]
     },
     "execution_count": 68,
     "metadata": {},
     "output_type": "execute_result"
    }
   ],
   "source": [
    "function find_projection_weights(f, basis, inner_product)\n",
    "    return [inner_product(f, bi) for bi in basis]\n",
    "end\n",
    "\n",
    "function project(f, N, basistype)\n",
    "    basis = build_basis(N, basistype)\n",
    "    \n",
    "    if basistype === palais\n",
    "        weights = find_projection_weights(f, basis, palais_inner_product)\n",
    "    else\n",
    "        weights = find_projection_weights(f, basis, l2_inner_product)\n",
    "    end\n",
    "    return build_function(weights, basis)\n",
    "end\n",
    "    "
   ]
  },
  {
   "cell_type": "code",
   "execution_count": 11,
   "metadata": {},
   "outputs": [
    {
     "data": {
      "text/plain": [
       "true"
      ]
     },
     "execution_count": 11,
     "metadata": {},
     "output_type": "execute_result"
    }
   ],
   "source": [
    "vec = Vector{Function}(undef, 2)\n",
    "vec[1] = x -> x\n",
    "isassigned(vec, 1)"
   ]
  },
  {
   "cell_type": "code",
   "execution_count": 10,
   "metadata": {},
   "outputs": [
    {
     "data": {
      "text/plain": [
       "true"
      ]
     },
     "execution_count": 10,
     "metadata": {},
     "output_type": "execute_result"
    }
   ],
   "source": [
    "isassigned(vec, 1)"
   ]
  },
  {
   "cell_type": "code",
   "execution_count": 69,
   "metadata": {},
   "outputs": [
    {
     "data": {
      "text/plain": [
       "f (generic function with 1 method)"
      ]
     },
     "execution_count": 69,
     "metadata": {},
     "output_type": "execute_result"
    }
   ],
   "source": [
    "f(x) = x^2"
   ]
  },
  {
   "cell_type": "code",
   "execution_count": 70,
   "metadata": {},
   "outputs": [
    {
     "data": {
      "text/plain": [
       "#230 (generic function with 1 method)"
      ]
     },
     "execution_count": 70,
     "metadata": {},
     "output_type": "execute_result"
    }
   ],
   "source": [
    "f_new = project(f, 10, palais)"
   ]
  },
  {
   "cell_type": "code",
   "execution_count": 72,
   "metadata": {},
   "outputs": [
    {
     "name": "stdout",
     "output_type": "stream",
     "text": [
      "Variables\n",
      "  #self#\u001b[36m::Core.Compiler.Const(project, false)\u001b[39m\n",
      "  f\u001b[36m::Core.Compiler.Const(f, false)\u001b[39m\n",
      "  N\u001b[36m::Int64\u001b[39m\n",
      "  basistype\u001b[36m::Core.Compiler.Const(palais, false)\u001b[39m\n",
      "  basis\u001b[91m\u001b[1m::Array\u001b[22m\u001b[39m\n",
      "  weights\u001b[91m\u001b[1m::Any\u001b[22m\u001b[39m\n",
      "\n",
      "Body\u001b[91m\u001b[1m::var\"#230#231\"{_A,_B,_C} where _C where _B where _A\u001b[22m\u001b[39m\n",
      "\u001b[90m1 ─\u001b[39m      Core.NewvarNode(:(weights))\n",
      "\u001b[90m│  \u001b[39m      (basis = Main.build_basis(N, basistype))\n",
      "\u001b[90m│  \u001b[39m %3 = (basistype === Main.palais)\u001b[36m::Core.Compiler.Const(true, false)\u001b[39m\n",
      "\u001b[90m│  \u001b[39m      %3\n",
      "\u001b[90m│  \u001b[39m      (weights = Main.find_projection_weights(f, basis, Main.palais_inner_product))\n",
      "\u001b[90m└──\u001b[39m      goto #3\n",
      "\u001b[90m2 ─\u001b[39m      Core.Compiler.Const(:(weights = Main.find_projection_weights(f, basis, Main.l2_inner_product)), false)\n",
      "\u001b[90m3 ┄\u001b[39m %8 = Main.build_function(weights, basis)\u001b[91m\u001b[1m::var\"#230#231\"{_A,_B,_C} where _C where _B where _A\u001b[22m\u001b[39m\n",
      "\u001b[90m└──\u001b[39m      return %8\n"
     ]
    }
   ],
   "source": [
    "@code_warntype project(f, 10, palais)"
   ]
  },
  {
   "cell_type": "code",
   "execution_count": 71,
   "metadata": {},
   "outputs": [
    {
     "name": "stdout",
     "output_type": "stream",
     "text": [
      "Variables\n",
      "  #self#\u001b[36m::var\"#230#231\"{Array{Float64,1},Array{Function,1},Int64}\u001b[39m\n",
      "  x\u001b[36m::Float64\u001b[39m\n",
      "  out\u001b[91m\u001b[1m::Any\u001b[22m\u001b[39m\n",
      "  @_4\u001b[33m\u001b[1m::Union{Nothing, Tuple{Int64,Int64}}\u001b[22m\u001b[39m\n",
      "  i\u001b[36m::Int64\u001b[39m\n",
      "\n",
      "Body\u001b[91m\u001b[1m::Any\u001b[22m\u001b[39m\n",
      "\u001b[90m1 ─\u001b[39m       (out = 0.0)\n",
      "\u001b[90m│  \u001b[39m %2  = Core.getfield(#self#, :N)\u001b[36m::Int64\u001b[39m\n",
      "\u001b[90m│  \u001b[39m %3  = (1:%2)\u001b[36m::Core.Compiler.PartialStruct(UnitRange{Int64}, Any[Core.Compiler.Const(1, false), Int64])\u001b[39m\n",
      "\u001b[90m│  \u001b[39m       (@_4 = Base.iterate(%3))\n",
      "\u001b[90m│  \u001b[39m %5  = (@_4 === nothing)\u001b[36m::Bool\u001b[39m\n",
      "\u001b[90m│  \u001b[39m %6  = Base.not_int(%5)\u001b[36m::Bool\u001b[39m\n",
      "\u001b[90m└──\u001b[39m       goto #4 if not %6\n",
      "\u001b[90m2 ┄\u001b[39m %8  = @_4::Tuple{Int64,Int64}\u001b[36m::Tuple{Int64,Int64}\u001b[39m\n",
      "\u001b[90m│  \u001b[39m       (i = Core.getfield(%8, 1))\n",
      "\u001b[90m│  \u001b[39m %10 = Core.getfield(%8, 2)\u001b[36m::Int64\u001b[39m\n",
      "\u001b[90m│  \u001b[39m %11 = out\u001b[91m\u001b[1m::Any\u001b[22m\u001b[39m\n",
      "\u001b[90m│  \u001b[39m %12 = Core.getfield(#self#, :weights)\u001b[36m::Array{Float64,1}\u001b[39m\n",
      "\u001b[90m│  \u001b[39m %13 = Base.getindex(%12, i)\u001b[36m::Float64\u001b[39m\n",
      "\u001b[90m│  \u001b[39m %14 = Core.getfield(#self#, :basis)\u001b[36m::Array{Function,1}\u001b[39m\n",
      "\u001b[90m│  \u001b[39m %15 = Base.getindex(%14, i)\u001b[91m\u001b[1m::Function\u001b[22m\u001b[39m\n",
      "\u001b[90m│  \u001b[39m %16 = (%15)(x)\u001b[91m\u001b[1m::Any\u001b[22m\u001b[39m\n",
      "\u001b[90m│  \u001b[39m %17 = (%13 * %16)\u001b[91m\u001b[1m::Any\u001b[22m\u001b[39m\n",
      "\u001b[90m│  \u001b[39m       (out = %11 + %17)\n",
      "\u001b[90m│  \u001b[39m       (@_4 = Base.iterate(%3, %10))\n",
      "\u001b[90m│  \u001b[39m %20 = (@_4 === nothing)\u001b[36m::Bool\u001b[39m\n",
      "\u001b[90m│  \u001b[39m %21 = Base.not_int(%20)\u001b[36m::Bool\u001b[39m\n",
      "\u001b[90m└──\u001b[39m       goto #4 if not %21\n",
      "\u001b[90m3 ─\u001b[39m       goto #2\n",
      "\u001b[90m4 ┄\u001b[39m       return out\n"
     ]
    }
   ],
   "source": [
    "@code_warntype f_new(0.1)"
   ]
  },
  {
   "cell_type": "code",
   "execution_count": 63,
   "metadata": {},
   "outputs": [
    {
     "data": {
      "text/plain": [
       "Projector(4, Function[var\"#222#225\"{Int64}(1), var\"#223#227\"{Int64}(2), var\"#222#225\"{Int64}(2), var\"#223#227\"{Int64}(3)], palais_inner_product)"
      ]
     },
     "execution_count": 63,
     "metadata": {},
     "output_type": "execute_result"
    }
   ],
   "source": [
    "projector = PalaisProjector(4)"
   ]
  },
  {
   "cell_type": "markdown",
   "metadata": {},
   "source": [
    "# Full Algorithm"
   ]
  },
  {
   "cell_type": "code",
   "execution_count": null,
   "metadata": {},
   "outputs": [],
   "source": [
    "id(x) = x\n",
    "ϕ = id\n",
    "@printf \"Iter %4d Error %12.10e\\n\" 0 l2_distance(q, r)\n",
    "\n",
    "for i in 1:10\n",
    "#     basis = basis_jacobi_polynomials(i)\n",
    "    basis = basis_fourier_sine(N)\n",
    "\n",
    "    ∇E = l2_gradient(q, r)\n",
    "    dγ = project_palais(∇E, N)\n",
    "#     dγ = project(∇E, basis)\n",
    "#     dγ = interpolate(∇E, (i+2), rbf=gaussian)\n",
    "    \n",
    "    εmax = max_step_length(dγ)\n",
    "    ε = backtracking(q, r, dγ, εmax, ρ=0.9, c=0.1, verbose=false)\n",
    "#     println(\"Iter $i. L2 Inner Product\", l2_inner_product(∇E, dγ))\n",
    "#     ε = εmax / 2.\n",
    "#     println(\"εmax: $εmax, ε: $ε, ||dγ|| = $(l2_norm(dγ))\")\n",
    "        \n",
    "    γ(x) = x - ε * dγ(x)\n",
    "    ϕ = ϕ ∘ γ\n",
    "    r = Q_reparametrization(r, γ)\n",
    "\n",
    "    @printf \"Iter %4d Error %12.10e εmax: %12.10e ε: %12.10e ||dγ||: %12.10e\\n\" i l2_distance(q, r) εmax ε l2_norm(dγ)\n",
    "\n",
    "    \n",
    "    p1 = plot(∇E, Xfine, title=\"Iter $i: L2- and projected gradient\", label=\"∇E\")#, ylims=(-2., 2.))\n",
    "    plot!(dγ, Xfine, label=\"dγ\")\n",
    "    \n",
    "    p2 = plot(ϕ, Xfine, title=\"Iter $i: First Reparametrization\", legend=false)\n",
    "    plot!(γ, Xfine, linestyle=:dash, color=\"red\", linewidth=0.5)\n",
    "    plot!(ψ, Xfine, linestyle=:dash, color=\"black\")\n",
    "    \n",
    "    \n",
    "    p3 = plot_comparison(r, \"r$i\", X=0:0.02:1)#, xlims=(-0.1, 1.5))\n",
    "    \n",
    "#     display(plot_reparametrization(s1, s2, ϕ))\n",
    "    \n",
    "    p = plot(p1, p2, p3, layout=@layout[a b; c], size=(900, 600))\n",
    "    push!(plots, p)\n",
    "#     display(p)\n",
    "end"
   ]
  },
  {
   "cell_type": "code",
   "execution_count": 7,
   "metadata": {},
   "outputs": [
    {
     "data": {
      "text/plain": [
       "Q_reparametrization (generic function with 1 method)"
      ]
     },
     "execution_count": 7,
     "metadata": {},
     "output_type": "execute_result"
    }
   ],
   "source": [
    "include(\"src/reparametrization.jl\")\n",
    "include(\"src/functionals.jl\")\n",
    "include(\"src/transform.jl\")"
   ]
  },
  {
   "cell_type": "code",
   "execution_count": 8,
   "metadata": {},
   "outputs": [
    {
     "data": {
      "text/plain": [
       "reparametrize (generic function with 1 method)"
      ]
     },
     "execution_count": 8,
     "metadata": {},
     "output_type": "execute_result"
    }
   ],
   "source": [
    "function reparametrize(q, r; maxiter=20, tol=10)\n",
    "    id(x) = x\n",
    "    ψ = id\n",
    "    \n",
    "    for i in 1:10\n",
    "        ∇E = l2_gradient(q, r)\n",
    "        dγ = project(∇E, Projector)\n",
    "        \n",
    "        εmax = max_step_length(dγ)\n",
    "        ε = backtracking(q, r, dγ, εmax, ρ=0.9, c=0.1, verbose=false) # Can probably be unified with ∇E\n",
    "        \n",
    "        γ(x) = x - ε * dγ(x)\n",
    "        r = Q_reparametrization(r, γ)\n",
    "        ψ = ψ ∘ γ\n",
    "    end\n",
    "    return ψ\n",
    "end"
   ]
  },
  {
   "cell_type": "code",
   "execution_count": 9,
   "metadata": {},
   "outputs": [
    {
     "data": {
      "text/plain": [
       "#57 (generic function with 1 method)"
      ]
     },
     "execution_count": 9,
     "metadata": {},
     "output_type": "execute_result"
    }
   ],
   "source": [
    "ψ(t) = 0.5t^2 + 0.5t\n",
    "s1(t) = [cos(2π*t), sin(2π*t)]\n",
    "s2 = s1 ∘ ψ\n",
    "q = Q_transform(s2)\n",
    "r = Q_transform(s1)"
   ]
  },
  {
   "cell_type": "code",
   "execution_count": 10,
   "metadata": {},
   "outputs": [
    {
     "ename": "LoadError",
     "evalue": "UndefVarError: project not defined",
     "output_type": "error",
     "traceback": [
      "UndefVarError: project not defined",
      "",
      "Stacktrace:",
      " [1] reparametrize(::Function, ::Function; maxiter::Int64, tol::Int64) at ./In[8]:7",
      " [2] reparametrize(::Function, ::Function) at ./In[8]:2",
      " [3] top-level scope at In[10]:1",
      " [4] include_string(::Function, ::Module, ::String, ::String) at ./loading.jl:1091"
     ]
    }
   ],
   "source": [
    "reparametrize(q, r)"
   ]
  },
  {
   "cell_type": "code",
   "execution_count": null,
   "metadata": {},
   "outputs": [],
   "source": []
  }
 ],
 "metadata": {
  "kernelspec": {
   "display_name": "Julia 1.5.1",
   "language": "julia",
   "name": "julia-1.5"
  },
  "language_info": {
   "file_extension": ".jl",
   "mimetype": "application/julia",
   "name": "julia",
   "version": "1.5.1"
  }
 },
 "nbformat": 4,
 "nbformat_minor": 4
}
