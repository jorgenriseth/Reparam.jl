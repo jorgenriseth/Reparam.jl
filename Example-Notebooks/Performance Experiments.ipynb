{
 "cells": [
  {
   "cell_type": "code",
   "execution_count": 1,
   "metadata": {},
   "outputs": [
    {
     "name": "stderr",
     "output_type": "stream",
     "text": [
      "Gtk-Message: 13:35:53.027: Failed to load module \"appmenu-gtk-module\"\n",
      "Gtk-Message: 13:35:53.084: Failed to load module \"canberra-gtk-module\"\n",
      "Gtk-Message: 13:35:53.084: Failed to load module \"canberra-gtk-module\"\n"
     ]
    }
   ],
   "source": [
    "using Profile\n",
    "using ProfileView\n",
    "using QuadGK"
   ]
  },
  {
   "cell_type": "markdown",
   "metadata": {},
   "source": [
    "This notebook is dedicated to compare the performance for various implementations of functionsd that are expressed as a sum of basis functions. Elements to compare\n",
    "\n",
    "1. Basis as Tuple vs. Array\n",
    "2. Looping using zip vs. element interation.\n",
    "3. Compare Speciificity vs. Generality (e.g.) functions explicitly defined vs a set of basis functions."
   ]
  },
  {
   "cell_type": "code",
   "execution_count": 2,
   "metadata": {},
   "outputs": [
    {
     "data": {
      "text/plain": [
       "execute_many_times (generic function with 1 method)"
      ]
     },
     "execution_count": 2,
     "metadata": {},
     "output_type": "execute_result"
    }
   ],
   "source": [
    "# Two functions that may be used for comparison\n",
    "F(x) = x^2\n",
    "G(x) = x - 1\n",
    "\n",
    "\n",
    "# Number of test elements, and a possible test array\n",
    "N = Int(1e6 + 1)\n",
    "X = range(0, 1, length=N)\n",
    "\n",
    "\n",
    "# A function to take timings of functions\n",
    "function execute_many_times(test_func, N)\n",
    "    x = rand()\n",
    "    for i in 1:N\n",
    "        test_func(x)\n",
    "    end\n",
    "end"
   ]
  },
  {
   "cell_type": "markdown",
   "metadata": {},
   "source": [
    "# Basis as Tuple vs Array "
   ]
  },
  {
   "cell_type": "markdown",
   "metadata": {},
   "source": [
    "__Conclusion:__ Tuple / array does not/only marginally impacts execution time."
   ]
  },
  {
   "cell_type": "code",
   "execution_count": 3,
   "metadata": {},
   "outputs": [
    {
     "name": "stdout",
     "output_type": "stream",
     "text": [
      "  2.689741 seconds\n",
      "  2.698225 seconds\n",
      "\n",
      "Variables\n",
      "  #self#\u001b[36m::var\"#1#2\"{Array{Float64,1},Array{var\"#4#6\"{Int64},1}}\u001b[39m\n",
      "  x\u001b[36m::Float64\u001b[39m\n",
      "  out\u001b[36m::Float64\u001b[39m\n",
      "  @_4\u001b[33m\u001b[1m::Union{Nothing, Tuple{Tuple{Float64,var\"#4#6\"{Int64}},Tuple{Int64,Int64}}}\u001b[22m\u001b[39m\n",
      "  wi\u001b[36m::Float64\u001b[39m\n",
      "  bi\u001b[36m::var\"#4#6\"{Int64}\u001b[39m\n",
      "  @_7\u001b[36m::Int64\u001b[39m\n",
      "\n",
      "Body\u001b[36m::Float64\u001b[39m\n",
      "\u001b[90m1 ─\u001b[39m       (out = 0.0)\n",
      "\u001b[90m│  \u001b[39m %2  = Core.getfield(#self#, :weights)\u001b[36m::Array{Float64,1}\u001b[39m\n",
      "\u001b[90m│  \u001b[39m %3  = Core.getfield(#self#, :basis)\u001b[36m::Array{var\"#4#6\"{Int64},1}\u001b[39m\n",
      "\u001b[90m│  \u001b[39m %4  = Main.zip(%2, %3)\u001b[36m::Base.Iterators.Zip{Tuple{Array{Float64,1},Array{var\"#4#6\"{Int64},1}}}\u001b[39m\n",
      "\u001b[90m│  \u001b[39m       (@_4 = Base.iterate(%4))\n",
      "\u001b[90m│  \u001b[39m %6  = (@_4 === nothing)\u001b[36m::Bool\u001b[39m\n",
      "\u001b[90m│  \u001b[39m %7  = Base.not_int(%6)\u001b[36m::Bool\u001b[39m\n",
      "\u001b[90m└──\u001b[39m       goto #4 if not %7\n",
      "\u001b[90m2 ┄\u001b[39m %9  = @_4::Tuple{Tuple{Float64,var\"#4#6\"{Int64}},Tuple{Int64,Int64}}\u001b[36m::Tuple{Tuple{Float64,var\"#4#6\"{Int64}},Tuple{Int64,Int64}}\u001b[39m\n",
      "\u001b[90m│  \u001b[39m %10 = Core.getfield(%9, 1)\u001b[36m::Tuple{Float64,var\"#4#6\"{Int64}}\u001b[39m\n",
      "\u001b[90m│  \u001b[39m %11 = Base.indexed_iterate(%10, 1)\u001b[36m::Core.Compiler.PartialStruct(Tuple{Float64,Int64}, Any[Float64, Core.Compiler.Const(2, false)])\u001b[39m\n",
      "\u001b[90m│  \u001b[39m       (wi = Core.getfield(%11, 1))\n",
      "\u001b[90m│  \u001b[39m       (@_7 = Core.getfield(%11, 2))\n",
      "\u001b[90m│  \u001b[39m %14 = Base.indexed_iterate(%10, 2, @_7::Core.Compiler.Const(2, false))\u001b[36m::Core.Compiler.PartialStruct(Tuple{var\"#4#6\"{Int64},Int64}, Any[var\"#4#6\"{Int64}, Core.Compiler.Const(3, false)])\u001b[39m\n",
      "\u001b[90m│  \u001b[39m       (bi = Core.getfield(%14, 1))\n",
      "\u001b[90m│  \u001b[39m %16 = Core.getfield(%9, 2)\u001b[36m::Tuple{Int64,Int64}\u001b[39m\n",
      "\u001b[90m│  \u001b[39m %17 = out\u001b[36m::Float64\u001b[39m\n",
      "\u001b[90m│  \u001b[39m %18 = wi\u001b[36m::Float64\u001b[39m\n",
      "\u001b[90m│  \u001b[39m %19 = (bi)(x)\u001b[36m::Float64\u001b[39m\n",
      "\u001b[90m│  \u001b[39m %20 = (%18 * %19)\u001b[36m::Float64\u001b[39m\n",
      "\u001b[90m│  \u001b[39m       (out = %17 + %20)\n",
      "\u001b[90m│  \u001b[39m       (@_4 = Base.iterate(%4, %16))\n",
      "\u001b[90m│  \u001b[39m %23 = (@_4 === nothing)\u001b[36m::Bool\u001b[39m\n",
      "\u001b[90m│  \u001b[39m %24 = Base.not_int(%23)\u001b[36m::Bool\u001b[39m\n",
      "\u001b[90m└──\u001b[39m       goto #4 if not %24\n",
      "\u001b[90m3 ─\u001b[39m       goto #2\n",
      "\u001b[90m4 ┄\u001b[39m       return out\n",
      "============================================================\n",
      "============================================================\n",
      "Variables\n",
      "  #self#\u001b[36m::var\"#1#2\"{Array{Float64,1},NTuple{200,var\"#8#10\"{Int64}}}\u001b[39m\n",
      "  x\u001b[36m::Float64\u001b[39m\n",
      "  out\u001b[36m::Float64\u001b[39m\n",
      "  @_4\u001b[33m\u001b[1m::Union{Nothing, Tuple{Tuple{Float64,var\"#8#10\"{Int64}},Tuple{Int64,Int64}}}\u001b[22m\u001b[39m\n",
      "  wi\u001b[36m::Float64\u001b[39m\n",
      "  bi\u001b[36m::var\"#8#10\"{Int64}\u001b[39m\n",
      "  @_7\u001b[36m::Int64\u001b[39m\n",
      "\n",
      "Body\u001b[36m::Float64\u001b[39m\n",
      "\u001b[90m1 ─\u001b[39m       (out = 0.0)\n",
      "\u001b[90m│  \u001b[39m %2  = Core.getfield(#self#, :weights)\u001b[36m::Array{Float64,1}\u001b[39m\n",
      "\u001b[90m│  \u001b[39m %3  = Core.getfield(#self#, :basis)\u001b[36m::NTuple{200,var\"#8#10\"{Int64}}\u001b[39m\n",
      "\u001b[90m│  \u001b[39m %4  = Main.zip(%2, %3)\u001b[36m::Base.Iterators.Zip{Tuple{Array{Float64,1},NTuple{200,var\"#8#10\"{Int64}}}}\u001b[39m\n",
      "\u001b[90m│  \u001b[39m       (@_4 = Base.iterate(%4))\n",
      "\u001b[90m│  \u001b[39m %6  = (@_4 === nothing)\u001b[36m::Bool\u001b[39m\n",
      "\u001b[90m│  \u001b[39m %7  = Base.not_int(%6)\u001b[36m::Bool\u001b[39m\n",
      "\u001b[90m└──\u001b[39m       goto #4 if not %7\n",
      "\u001b[90m2 ┄\u001b[39m %9  = @_4::Tuple{Tuple{Float64,var\"#8#10\"{Int64}},Tuple{Int64,Int64}}\u001b[36m::Tuple{Tuple{Float64,var\"#8#10\"{Int64}},Tuple{Int64,Int64}}\u001b[39m\n",
      "\u001b[90m│  \u001b[39m %10 = Core.getfield(%9, 1)\u001b[36m::Tuple{Float64,var\"#8#10\"{Int64}}\u001b[39m\n",
      "\u001b[90m│  \u001b[39m %11 = Base.indexed_iterate(%10, 1)\u001b[36m::Core.Compiler.PartialStruct(Tuple{Float64,Int64}, Any[Float64, Core.Compiler.Const(2, false)])\u001b[39m\n",
      "\u001b[90m│  \u001b[39m       (wi = Core.getfield(%11, 1))\n",
      "\u001b[90m│  \u001b[39m       (@_7 = Core.getfield(%11, 2))\n",
      "\u001b[90m│  \u001b[39m %14 = Base.indexed_iterate(%10, 2, @_7::Core.Compiler.Const(2, false))\u001b[36m::Core.Compiler.PartialStruct(Tuple{var\"#8#10\"{Int64},Int64}, Any[var\"#8#10\"{Int64}, Core.Compiler.Const(3, false)])\u001b[39m\n",
      "\u001b[90m│  \u001b[39m       (bi = Core.getfield(%14, 1))\n",
      "\u001b[90m│  \u001b[39m %16 = Core.getfield(%9, 2)\u001b[36m::Tuple{Int64,Int64}\u001b[39m\n",
      "\u001b[90m│  \u001b[39m %17 = out\u001b[36m::Float64\u001b[39m\n",
      "\u001b[90m│  \u001b[39m %18 = wi\u001b[36m::Float64\u001b[39m\n",
      "\u001b[90m│  \u001b[39m %19 = (bi)(x)\u001b[36m::Float64\u001b[39m\n",
      "\u001b[90m│  \u001b[39m %20 = (%18 * %19)\u001b[36m::Float64\u001b[39m\n",
      "\u001b[90m│  \u001b[39m       (out = %17 + %20)\n",
      "\u001b[90m│  \u001b[39m       (@_4 = Base.iterate(%4, %16))\n",
      "\u001b[90m│  \u001b[39m %23 = (@_4 === nothing)\u001b[36m::Bool\u001b[39m\n",
      "\u001b[90m│  \u001b[39m %24 = Base.not_int(%23)\u001b[36m::Bool\u001b[39m\n",
      "\u001b[90m└──\u001b[39m       goto #4 if not %24\n",
      "\u001b[90m3 ─\u001b[39m       goto #2\n",
      "\u001b[90m4 ┄\u001b[39m       return out\n"
     ]
    }
   ],
   "source": [
    "function build_function(weights, basis)\n",
    "    function (x)\n",
    "        out = 0.0\n",
    "        for (wi, bi) in zip(weights, basis)\n",
    "            out += wi* bi(x)\n",
    "        end\n",
    "        return out\n",
    "    end\n",
    "end\n",
    "\n",
    "\n",
    "# Number of basis functions\n",
    "nmax = 200\n",
    "\n",
    "# Weights vector and the basis array/tuple\n",
    "W = rand(nmax)\n",
    "b_array = [x -> sin(2π*n*x) for n in 1:nmax]\n",
    "b_tuple = Tuple([x -> sin(2π*n*x) for n in 1:nmax])\n",
    "\n",
    "# Create functions from basis, and evaluate single time\n",
    "f_array = build_function(W, b_array)\n",
    "f_tuple = build_function(W, b_tuple)\n",
    "\n",
    "execute_many_times(f_array, 1)\n",
    "execute_many_times(f_tuple, 1)\n",
    "\n",
    "@time execute_many_times(f_array, N)\n",
    "@time execute_many_times(f_tuple, N)\n",
    "\n",
    "println()\n",
    "x = rand()\n",
    "@code_warntype f_array(x)\n",
    "println(\"=\"^60)\n",
    "println(\"=\"^60)\n",
    "@code_warntype f_tuple(x)"
   ]
  },
  {
   "cell_type": "code",
   "execution_count": 4,
   "metadata": {},
   "outputs": [
    {
     "name": "stdout",
     "output_type": "stream",
     "text": [
      "Variables\n",
      "  #self#\u001b[36m::var\"#1#2\"{Array{Float64,1},Array{var\"#4#6\"{Int64},1}}\u001b[39m\n",
      "  x\u001b[36m::Float64\u001b[39m\n",
      "  out\u001b[36m::Float64\u001b[39m\n",
      "  @_4\u001b[33m\u001b[1m::Union{Nothing, Tuple{Tuple{Float64,var\"#4#6\"{Int64}},Tuple{Int64,Int64}}}\u001b[22m\u001b[39m\n",
      "  wi\u001b[36m::Float64\u001b[39m\n",
      "  bi\u001b[36m::var\"#4#6\"{Int64}\u001b[39m\n",
      "  @_7\u001b[36m::Int64\u001b[39m\n",
      "\n",
      "Body\u001b[36m::Float64\u001b[39m\n",
      "\u001b[90m1 ─\u001b[39m       (out = 0.0)\n",
      "\u001b[90m│  \u001b[39m %2  = Core.getfield(#self#, :weights)\u001b[36m::Array{Float64,1}\u001b[39m\n",
      "\u001b[90m│  \u001b[39m %3  = Core.getfield(#self#, :basis)\u001b[36m::Array{var\"#4#6\"{Int64},1}\u001b[39m\n",
      "\u001b[90m│  \u001b[39m %4  = Main.zip(%2, %3)\u001b[36m::Base.Iterators.Zip{Tuple{Array{Float64,1},Array{var\"#4#6\"{Int64},1}}}\u001b[39m\n",
      "\u001b[90m│  \u001b[39m       (@_4 = Base.iterate(%4))\n",
      "\u001b[90m│  \u001b[39m %6  = (@_4 === nothing)\u001b[36m::Bool\u001b[39m\n",
      "\u001b[90m│  \u001b[39m %7  = Base.not_int(%6)\u001b[36m::Bool\u001b[39m\n",
      "\u001b[90m└──\u001b[39m       goto #4 if not %7\n",
      "\u001b[90m2 ┄\u001b[39m %9  = @_4::Tuple{Tuple{Float64,var\"#4#6\"{Int64}},Tuple{Int64,Int64}}\u001b[36m::Tuple{Tuple{Float64,var\"#4#6\"{Int64}},Tuple{Int64,Int64}}\u001b[39m\n",
      "\u001b[90m│  \u001b[39m %10 = Core.getfield(%9, 1)\u001b[36m::Tuple{Float64,var\"#4#6\"{Int64}}\u001b[39m\n",
      "\u001b[90m│  \u001b[39m %11 = Base.indexed_iterate(%10, 1)\u001b[36m::Core.Compiler.PartialStruct(Tuple{Float64,Int64}, Any[Float64, Core.Compiler.Const(2, false)])\u001b[39m\n",
      "\u001b[90m│  \u001b[39m       (wi = Core.getfield(%11, 1))\n",
      "\u001b[90m│  \u001b[39m       (@_7 = Core.getfield(%11, 2))\n",
      "\u001b[90m│  \u001b[39m %14 = Base.indexed_iterate(%10, 2, @_7::Core.Compiler.Const(2, false))\u001b[36m::Core.Compiler.PartialStruct(Tuple{var\"#4#6\"{Int64},Int64}, Any[var\"#4#6\"{Int64}, Core.Compiler.Const(3, false)])\u001b[39m\n",
      "\u001b[90m│  \u001b[39m       (bi = Core.getfield(%14, 1))\n",
      "\u001b[90m│  \u001b[39m %16 = Core.getfield(%9, 2)\u001b[36m::Tuple{Int64,Int64}\u001b[39m\n",
      "\u001b[90m│  \u001b[39m %17 = out\u001b[36m::Float64\u001b[39m\n",
      "\u001b[90m│  \u001b[39m %18 = wi\u001b[36m::Float64\u001b[39m\n",
      "\u001b[90m│  \u001b[39m %19 = (bi)(x)\u001b[36m::Float64\u001b[39m\n",
      "\u001b[90m│  \u001b[39m %20 = (%18 * %19)\u001b[36m::Float64\u001b[39m\n",
      "\u001b[90m│  \u001b[39m       (out = %17 + %20)\n",
      "\u001b[90m│  \u001b[39m       (@_4 = Base.iterate(%4, %16))\n",
      "\u001b[90m│  \u001b[39m %23 = (@_4 === nothing)\u001b[36m::Bool\u001b[39m\n",
      "\u001b[90m│  \u001b[39m %24 = Base.not_int(%23)\u001b[36m::Bool\u001b[39m\n",
      "\u001b[90m└──\u001b[39m       goto #4 if not %24\n",
      "\u001b[90m3 ─\u001b[39m       goto #2\n",
      "\u001b[90m4 ┄\u001b[39m       return out\n",
      "============================================================\n",
      "============================================================\n",
      "Variables\n",
      "  #self#\u001b[36m::var\"#1#2\"{Array{Float64,1},NTuple{200,var\"#8#10\"{Int64}}}\u001b[39m\n",
      "  x\u001b[36m::Float64\u001b[39m\n",
      "  out\u001b[36m::Float64\u001b[39m\n",
      "  @_4\u001b[33m\u001b[1m::Union{Nothing, Tuple{Tuple{Float64,var\"#8#10\"{Int64}},Tuple{Int64,Int64}}}\u001b[22m\u001b[39m\n",
      "  wi\u001b[36m::Float64\u001b[39m\n",
      "  bi\u001b[36m::var\"#8#10\"{Int64}\u001b[39m\n",
      "  @_7\u001b[36m::Int64\u001b[39m\n",
      "\n",
      "Body\u001b[36m::Float64\u001b[39m\n",
      "\u001b[90m1 ─\u001b[39m       (out = 0.0)\n",
      "\u001b[90m│  \u001b[39m %2  = Core.getfield(#self#, :weights)\u001b[36m::Array{Float64,1}\u001b[39m\n",
      "\u001b[90m│  \u001b[39m %3  = Core.getfield(#self#, :basis)\u001b[36m::NTuple{200,var\"#8#10\"{Int64}}\u001b[39m\n",
      "\u001b[90m│  \u001b[39m %4  = Main.zip(%2, %3)\u001b[36m::Base.Iterators.Zip{Tuple{Array{Float64,1},NTuple{200,var\"#8#10\"{Int64}}}}\u001b[39m\n",
      "\u001b[90m│  \u001b[39m       (@_4 = Base.iterate(%4))\n",
      "\u001b[90m│  \u001b[39m %6  = (@_4 === nothing)\u001b[36m::Bool\u001b[39m\n",
      "\u001b[90m│  \u001b[39m %7  = Base.not_int(%6)\u001b[36m::Bool\u001b[39m\n",
      "\u001b[90m└──\u001b[39m       goto #4 if not %7\n",
      "\u001b[90m2 ┄\u001b[39m %9  = @_4::Tuple{Tuple{Float64,var\"#8#10\"{Int64}},Tuple{Int64,Int64}}\u001b[36m::Tuple{Tuple{Float64,var\"#8#10\"{Int64}},Tuple{Int64,Int64}}\u001b[39m\n",
      "\u001b[90m│  \u001b[39m %10 = Core.getfield(%9, 1)\u001b[36m::Tuple{Float64,var\"#8#10\"{Int64}}\u001b[39m\n",
      "\u001b[90m│  \u001b[39m %11 = Base.indexed_iterate(%10, 1)\u001b[36m::Core.Compiler.PartialStruct(Tuple{Float64,Int64}, Any[Float64, Core.Compiler.Const(2, false)])\u001b[39m\n",
      "\u001b[90m│  \u001b[39m       (wi = Core.getfield(%11, 1))\n",
      "\u001b[90m│  \u001b[39m       (@_7 = Core.getfield(%11, 2))\n",
      "\u001b[90m│  \u001b[39m %14 = Base.indexed_iterate(%10, 2, @_7::Core.Compiler.Const(2, false))\u001b[36m::Core.Compiler.PartialStruct(Tuple{var\"#8#10\"{Int64},Int64}, Any[var\"#8#10\"{Int64}, Core.Compiler.Const(3, false)])\u001b[39m\n",
      "\u001b[90m│  \u001b[39m       (bi = Core.getfield(%14, 1))\n",
      "\u001b[90m│  \u001b[39m %16 = Core.getfield(%9, 2)\u001b[36m::Tuple{Int64,Int64}\u001b[39m\n",
      "\u001b[90m│  \u001b[39m %17 = out\u001b[36m::Float64\u001b[39m\n",
      "\u001b[90m│  \u001b[39m %18 = wi\u001b[36m::Float64\u001b[39m\n",
      "\u001b[90m│  \u001b[39m %19 = (bi)(x)\u001b[36m::Float64\u001b[39m\n",
      "\u001b[90m│  \u001b[39m %20 = (%18 * %19)\u001b[36m::Float64\u001b[39m\n",
      "\u001b[90m│  \u001b[39m       (out = %17 + %20)\n",
      "\u001b[90m│  \u001b[39m       (@_4 = Base.iterate(%4, %16))\n",
      "\u001b[90m│  \u001b[39m %23 = (@_4 === nothing)\u001b[36m::Bool\u001b[39m\n",
      "\u001b[90m│  \u001b[39m %24 = Base.not_int(%23)\u001b[36m::Bool\u001b[39m\n",
      "\u001b[90m└──\u001b[39m       goto #4 if not %24\n",
      "\u001b[90m3 ─\u001b[39m       goto #2\n",
      "\u001b[90m4 ┄\u001b[39m       return out\n"
     ]
    }
   ],
   "source": [
    "x = rand()\n",
    "@code_warntype f_array(x)\n",
    "println(\"=\"^60)\n",
    "println(\"=\"^60)\n",
    "@code_warntype f_tuple(x)"
   ]
  },
  {
   "cell_type": "markdown",
   "metadata": {},
   "source": [
    "## 2. Looping with Zip vs GetIndex"
   ]
  },
  {
   "cell_type": "markdown",
   "metadata": {},
   "source": [
    "__Conclusion:__ Looping over a range is 15-20% faster than zipping. This result is independent of array or tuple basis."
   ]
  },
  {
   "cell_type": "markdown",
   "metadata": {},
   "source": [
    "### With Array Basis"
   ]
  },
  {
   "cell_type": "code",
   "execution_count": 5,
   "metadata": {},
   "outputs": [
    {
     "name": "stdout",
     "output_type": "stream",
     "text": [
      "  2.628246 seconds\n",
      "  2.105652 seconds\n"
     ]
    }
   ],
   "source": [
    "function build_function_zip(weights, basis)\n",
    "    function (x)\n",
    "        out = 0.0\n",
    "        for (wi, bi) in zip(weights, basis)\n",
    "            out += wi* bi(x)\n",
    "        end\n",
    "        return out\n",
    "    end\n",
    "end\n",
    "\n",
    "\n",
    "function build_function_range(weights, basis)\n",
    "    n = length(weights)\n",
    "    function (x)\n",
    "        out = 0.0\n",
    "        for i in 1:n\n",
    "            out += weights[i] * basis[i](x)\n",
    "        end\n",
    "        return out\n",
    "    end\n",
    "end\n",
    "\n",
    "\n",
    "# Number of basis functions\n",
    "nmax = 200\n",
    "\n",
    "# Weights vector and the basis array\n",
    "W = rand(nmax)\n",
    "basis = [x -> sin(2π*n*x) for n in 1:nmax]\n",
    "\n",
    "# Create functions from basis, and evaluate single time\n",
    "f_zip = build_function_zip(W, basis)\n",
    "f_range = build_function_range(W, basis)\n",
    "\n",
    "\n",
    "execute_many_times(f_zip, 1)\n",
    "execute_many_times(f_range, 1)\n",
    "\n",
    "@time execute_many_times(f_zip, N)\n",
    "@time execute_many_times(f_range, N)"
   ]
  },
  {
   "cell_type": "code",
   "execution_count": 6,
   "metadata": {},
   "outputs": [
    {
     "name": "stdout",
     "output_type": "stream",
     "text": [
      "\n",
      "Variables\n",
      "  #self#\u001b[36m::var\"#11#12\"{Array{Float64,1},Array{var\"#16#18\"{Int64},1}}\u001b[39m\n",
      "  x\u001b[36m::Float64\u001b[39m\n",
      "  out\u001b[36m::Float64\u001b[39m\n",
      "  @_4\u001b[33m\u001b[1m::Union{Nothing, Tuple{Tuple{Float64,var\"#16#18\"{Int64}},Tuple{Int64,Int64}}}\u001b[22m\u001b[39m\n",
      "  wi\u001b[36m::Float64\u001b[39m\n",
      "  bi\u001b[36m::var\"#16#18\"{Int64}\u001b[39m\n",
      "  @_7\u001b[36m::Int64\u001b[39m\n",
      "\n",
      "Body\u001b[36m::Float64\u001b[39m\n",
      "\u001b[90m1 ─\u001b[39m       (out = 0.0)\n",
      "\u001b[90m│  \u001b[39m %2  = Core.getfield(#self#, :weights)\u001b[36m::Array{Float64,1}\u001b[39m\n",
      "\u001b[90m│  \u001b[39m %3  = Core.getfield(#self#, :basis)\u001b[36m::Array{var\"#16#18\"{Int64},1}\u001b[39m\n",
      "\u001b[90m│  \u001b[39m %4  = Main.zip(%2, %3)\u001b[36m::Base.Iterators.Zip{Tuple{Array{Float64,1},Array{var\"#16#18\"{Int64},1}}}\u001b[39m\n",
      "\u001b[90m│  \u001b[39m       (@_4 = Base.iterate(%4))\n",
      "\u001b[90m│  \u001b[39m %6  = (@_4 === nothing)\u001b[36m::Bool\u001b[39m\n",
      "\u001b[90m│  \u001b[39m %7  = Base.not_int(%6)\u001b[36m::Bool\u001b[39m\n",
      "\u001b[90m└──\u001b[39m       goto #4 if not %7\n",
      "\u001b[90m2 ┄\u001b[39m %9  = @_4::Tuple{Tuple{Float64,var\"#16#18\"{Int64}},Tuple{Int64,Int64}}\u001b[36m::Tuple{Tuple{Float64,var\"#16#18\"{Int64}},Tuple{Int64,Int64}}\u001b[39m\n",
      "\u001b[90m│  \u001b[39m %10 = Core.getfield(%9, 1)\u001b[36m::Tuple{Float64,var\"#16#18\"{Int64}}\u001b[39m\n",
      "\u001b[90m│  \u001b[39m %11 = Base.indexed_iterate(%10, 1)\u001b[36m::Core.Compiler.PartialStruct(Tuple{Float64,Int64}, Any[Float64, Core.Compiler.Const(2, false)])\u001b[39m\n",
      "\u001b[90m│  \u001b[39m       (wi = Core.getfield(%11, 1))\n",
      "\u001b[90m│  \u001b[39m       (@_7 = Core.getfield(%11, 2))\n",
      "\u001b[90m│  \u001b[39m %14 = Base.indexed_iterate(%10, 2, @_7::Core.Compiler.Const(2, false))\u001b[36m::Core.Compiler.PartialStruct(Tuple{var\"#16#18\"{Int64},Int64}, Any[var\"#16#18\"{Int64}, Core.Compiler.Const(3, false)])\u001b[39m\n",
      "\u001b[90m│  \u001b[39m       (bi = Core.getfield(%14, 1))\n",
      "\u001b[90m│  \u001b[39m %16 = Core.getfield(%9, 2)\u001b[36m::Tuple{Int64,Int64}\u001b[39m\n",
      "\u001b[90m│  \u001b[39m %17 = out\u001b[36m::Float64\u001b[39m\n",
      "\u001b[90m│  \u001b[39m %18 = wi\u001b[36m::Float64\u001b[39m\n",
      "\u001b[90m│  \u001b[39m %19 = (bi)(x)\u001b[36m::Float64\u001b[39m\n",
      "\u001b[90m│  \u001b[39m %20 = (%18 * %19)\u001b[36m::Float64\u001b[39m\n",
      "\u001b[90m│  \u001b[39m       (out = %17 + %20)\n",
      "\u001b[90m│  \u001b[39m       (@_4 = Base.iterate(%4, %16))\n",
      "\u001b[90m│  \u001b[39m %23 = (@_4 === nothing)\u001b[36m::Bool\u001b[39m\n",
      "\u001b[90m│  \u001b[39m %24 = Base.not_int(%23)\u001b[36m::Bool\u001b[39m\n",
      "\u001b[90m└──\u001b[39m       goto #4 if not %24\n",
      "\u001b[90m3 ─\u001b[39m       goto #2\n",
      "\u001b[90m4 ┄\u001b[39m       return out\n",
      "============================================================\n",
      "============================================================\n",
      "Variables\n",
      "  #self#\u001b[36m::var\"#13#14\"{Array{Float64,1},Array{var\"#16#18\"{Int64},1},Int64}\u001b[39m\n",
      "  x\u001b[36m::Float64\u001b[39m\n",
      "  out\u001b[36m::Float64\u001b[39m\n",
      "  @_4\u001b[33m\u001b[1m::Union{Nothing, Tuple{Int64,Int64}}\u001b[22m\u001b[39m\n",
      "  i\u001b[36m::Int64\u001b[39m\n",
      "\n",
      "Body\u001b[36m::Float64\u001b[39m\n",
      "\u001b[90m1 ─\u001b[39m       (out = 0.0)\n",
      "\u001b[90m│  \u001b[39m %2  = Core.getfield(#self#, :n)\u001b[36m::Int64\u001b[39m\n",
      "\u001b[90m│  \u001b[39m %3  = (1:%2)\u001b[36m::Core.Compiler.PartialStruct(UnitRange{Int64}, Any[Core.Compiler.Const(1, false), Int64])\u001b[39m\n",
      "\u001b[90m│  \u001b[39m       (@_4 = Base.iterate(%3))\n",
      "\u001b[90m│  \u001b[39m %5  = (@_4 === nothing)\u001b[36m::Bool\u001b[39m\n",
      "\u001b[90m│  \u001b[39m %6  = Base.not_int(%5)\u001b[36m::Bool\u001b[39m\n",
      "\u001b[90m└──\u001b[39m       goto #4 if not %6\n",
      "\u001b[90m2 ┄\u001b[39m %8  = @_4::Tuple{Int64,Int64}\u001b[36m::Tuple{Int64,Int64}\u001b[39m\n",
      "\u001b[90m│  \u001b[39m       (i = Core.getfield(%8, 1))\n",
      "\u001b[90m│  \u001b[39m %10 = Core.getfield(%8, 2)\u001b[36m::Int64\u001b[39m\n",
      "\u001b[90m│  \u001b[39m %11 = out\u001b[36m::Float64\u001b[39m\n",
      "\u001b[90m│  \u001b[39m %12 = Core.getfield(#self#, :weights)\u001b[36m::Array{Float64,1}\u001b[39m\n",
      "\u001b[90m│  \u001b[39m %13 = Base.getindex(%12, i)\u001b[36m::Float64\u001b[39m\n",
      "\u001b[90m│  \u001b[39m %14 = Core.getfield(#self#, :basis)\u001b[36m::Array{var\"#16#18\"{Int64},1}\u001b[39m\n",
      "\u001b[90m│  \u001b[39m %15 = Base.getindex(%14, i)\u001b[36m::var\"#16#18\"{Int64}\u001b[39m\n",
      "\u001b[90m│  \u001b[39m %16 = (%15)(x)\u001b[36m::Float64\u001b[39m\n",
      "\u001b[90m│  \u001b[39m %17 = (%13 * %16)\u001b[36m::Float64\u001b[39m\n",
      "\u001b[90m│  \u001b[39m       (out = %11 + %17)\n",
      "\u001b[90m│  \u001b[39m       (@_4 = Base.iterate(%3, %10))\n",
      "\u001b[90m│  \u001b[39m %20 = (@_4 === nothing)\u001b[36m::Bool\u001b[39m\n",
      "\u001b[90m│  \u001b[39m %21 = Base.not_int(%20)\u001b[36m::Bool\u001b[39m\n",
      "\u001b[90m└──\u001b[39m       goto #4 if not %21\n",
      "\u001b[90m3 ─\u001b[39m       goto #2\n",
      "\u001b[90m4 ┄\u001b[39m       return out\n"
     ]
    }
   ],
   "source": [
    "println()\n",
    "x = rand()\n",
    "@code_warntype f_zip(x)\n",
    "println(\"=\"^60)\n",
    "println(\"=\"^60)\n",
    "@code_warntype f_range(x)"
   ]
  },
  {
   "cell_type": "markdown",
   "metadata": {},
   "source": [
    "### With Tuple Basis"
   ]
  },
  {
   "cell_type": "code",
   "execution_count": 7,
   "metadata": {},
   "outputs": [
    {
     "name": "stdout",
     "output_type": "stream",
     "text": [
      "  2.666857 seconds\n",
      "  2.121630 seconds\n"
     ]
    }
   ],
   "source": [
    "function build_function_zip(weights, basis)\n",
    "    function (x)\n",
    "        out = 0.0\n",
    "        for (wi, bi) in zip(weights, basis)\n",
    "            out += wi* bi(x)\n",
    "        end\n",
    "        return out\n",
    "    end\n",
    "end\n",
    "\n",
    "\n",
    "function build_function_range(weights, basis)\n",
    "    n = length(weights)\n",
    "    function (x)\n",
    "        out = 0.0\n",
    "        for i in 1:n\n",
    "            out += weights[i] * basis[i](x)\n",
    "        end\n",
    "        return out\n",
    "    end\n",
    "end\n",
    "\n",
    "\n",
    "# Number of basis functions\n",
    "nmax = 200\n",
    "\n",
    "# Weights vector and the basis array\n",
    "W = rand(nmax)\n",
    "basis = Tuple([x -> sin(2π*n*x) for n in 1:nmax])\n",
    "\n",
    "# Create functions from basis, and evaluate single time\n",
    "f_zip = build_function_zip(W, basis)\n",
    "f_range = build_function_range(W, basis)\n",
    "\n",
    "\n",
    "execute_many_times(f_zip, 1)\n",
    "execute_many_times(f_range, 1)\n",
    "\n",
    "@time execute_many_times(f_zip, N)\n",
    "@time execute_many_times(f_range, N)"
   ]
  },
  {
   "cell_type": "code",
   "execution_count": 8,
   "metadata": {},
   "outputs": [
    {
     "name": "stdout",
     "output_type": "stream",
     "text": [
      "\n",
      "Variables\n",
      "  #self#\u001b[36m::var\"#19#20\"{Array{Float64,1},NTuple{200,var\"#24#26\"{Int64}}}\u001b[39m\n",
      "  x\u001b[36m::Float64\u001b[39m\n",
      "  out\u001b[36m::Float64\u001b[39m\n",
      "  @_4\u001b[33m\u001b[1m::Union{Nothing, Tuple{Tuple{Float64,var\"#24#26\"{Int64}},Tuple{Int64,Int64}}}\u001b[22m\u001b[39m\n",
      "  wi\u001b[36m::Float64\u001b[39m\n",
      "  bi\u001b[36m::var\"#24#26\"{Int64}\u001b[39m\n",
      "  @_7\u001b[36m::Int64\u001b[39m\n",
      "\n",
      "Body\u001b[36m::Float64\u001b[39m\n",
      "\u001b[90m1 ─\u001b[39m       (out = 0.0)\n",
      "\u001b[90m│  \u001b[39m %2  = Core.getfield(#self#, :weights)\u001b[36m::Array{Float64,1}\u001b[39m\n",
      "\u001b[90m│  \u001b[39m %3  = Core.getfield(#self#, :basis)\u001b[36m::NTuple{200,var\"#24#26\"{Int64}}\u001b[39m\n",
      "\u001b[90m│  \u001b[39m %4  = Main.zip(%2, %3)\u001b[36m::Base.Iterators.Zip{Tuple{Array{Float64,1},NTuple{200,var\"#24#26\"{Int64}}}}\u001b[39m\n",
      "\u001b[90m│  \u001b[39m       (@_4 = Base.iterate(%4))\n",
      "\u001b[90m│  \u001b[39m %6  = (@_4 === nothing)\u001b[36m::Bool\u001b[39m\n",
      "\u001b[90m│  \u001b[39m %7  = Base.not_int(%6)\u001b[36m::Bool\u001b[39m\n",
      "\u001b[90m└──\u001b[39m       goto #4 if not %7\n",
      "\u001b[90m2 ┄\u001b[39m %9  = @_4::Tuple{Tuple{Float64,var\"#24#26\"{Int64}},Tuple{Int64,Int64}}\u001b[36m::Tuple{Tuple{Float64,var\"#24#26\"{Int64}},Tuple{Int64,Int64}}\u001b[39m\n",
      "\u001b[90m│  \u001b[39m %10 = Core.getfield(%9, 1)\u001b[36m::Tuple{Float64,var\"#24#26\"{Int64}}\u001b[39m\n",
      "\u001b[90m│  \u001b[39m %11 = Base.indexed_iterate(%10, 1)\u001b[36m::Core.Compiler.PartialStruct(Tuple{Float64,Int64}, Any[Float64, Core.Compiler.Const(2, false)])\u001b[39m\n",
      "\u001b[90m│  \u001b[39m       (wi = Core.getfield(%11, 1))\n",
      "\u001b[90m│  \u001b[39m       (@_7 = Core.getfield(%11, 2))\n",
      "\u001b[90m│  \u001b[39m %14 = Base.indexed_iterate(%10, 2, @_7::Core.Compiler.Const(2, false))\u001b[36m::Core.Compiler.PartialStruct(Tuple{var\"#24#26\"{Int64},Int64}, Any[var\"#24#26\"{Int64}, Core.Compiler.Const(3, false)])\u001b[39m\n",
      "\u001b[90m│  \u001b[39m       (bi = Core.getfield(%14, 1))\n",
      "\u001b[90m│  \u001b[39m %16 = Core.getfield(%9, 2)\u001b[36m::Tuple{Int64,Int64}\u001b[39m\n",
      "\u001b[90m│  \u001b[39m %17 = out\u001b[36m::Float64\u001b[39m\n",
      "\u001b[90m│  \u001b[39m %18 = wi\u001b[36m::Float64\u001b[39m\n",
      "\u001b[90m│  \u001b[39m %19 = (bi)(x)\u001b[36m::Float64\u001b[39m\n",
      "\u001b[90m│  \u001b[39m %20 = (%18 * %19)\u001b[36m::Float64\u001b[39m\n",
      "\u001b[90m│  \u001b[39m       (out = %17 + %20)\n",
      "\u001b[90m│  \u001b[39m       (@_4 = Base.iterate(%4, %16))\n",
      "\u001b[90m│  \u001b[39m %23 = (@_4 === nothing)\u001b[36m::Bool\u001b[39m\n",
      "\u001b[90m│  \u001b[39m %24 = Base.not_int(%23)\u001b[36m::Bool\u001b[39m\n",
      "\u001b[90m└──\u001b[39m       goto #4 if not %24\n",
      "\u001b[90m3 ─\u001b[39m       goto #2\n",
      "\u001b[90m4 ┄\u001b[39m       return out\n",
      "============================================================\n",
      "============================================================\n",
      "Variables\n",
      "  #self#\u001b[36m::var\"#21#22\"{Array{Float64,1},NTuple{200,var\"#24#26\"{Int64}},Int64}\u001b[39m\n",
      "  x\u001b[36m::Float64\u001b[39m\n",
      "  out\u001b[36m::Float64\u001b[39m\n",
      "  @_4\u001b[33m\u001b[1m::Union{Nothing, Tuple{Int64,Int64}}\u001b[22m\u001b[39m\n",
      "  i\u001b[36m::Int64\u001b[39m\n",
      "\n",
      "Body\u001b[36m::Float64\u001b[39m\n",
      "\u001b[90m1 ─\u001b[39m       (out = 0.0)\n",
      "\u001b[90m│  \u001b[39m %2  = Core.getfield(#self#, :n)\u001b[36m::Int64\u001b[39m\n",
      "\u001b[90m│  \u001b[39m %3  = (1:%2)\u001b[36m::Core.Compiler.PartialStruct(UnitRange{Int64}, Any[Core.Compiler.Const(1, false), Int64])\u001b[39m\n",
      "\u001b[90m│  \u001b[39m       (@_4 = Base.iterate(%3))\n",
      "\u001b[90m│  \u001b[39m %5  = (@_4 === nothing)\u001b[36m::Bool\u001b[39m\n",
      "\u001b[90m│  \u001b[39m %6  = Base.not_int(%5)\u001b[36m::Bool\u001b[39m\n",
      "\u001b[90m└──\u001b[39m       goto #4 if not %6\n",
      "\u001b[90m2 ┄\u001b[39m %8  = @_4::Tuple{Int64,Int64}\u001b[36m::Tuple{Int64,Int64}\u001b[39m\n",
      "\u001b[90m│  \u001b[39m       (i = Core.getfield(%8, 1))\n",
      "\u001b[90m│  \u001b[39m %10 = Core.getfield(%8, 2)\u001b[36m::Int64\u001b[39m\n",
      "\u001b[90m│  \u001b[39m %11 = out\u001b[36m::Float64\u001b[39m\n",
      "\u001b[90m│  \u001b[39m %12 = Core.getfield(#self#, :weights)\u001b[36m::Array{Float64,1}\u001b[39m\n",
      "\u001b[90m│  \u001b[39m %13 = Base.getindex(%12, i)\u001b[36m::Float64\u001b[39m\n",
      "\u001b[90m│  \u001b[39m %14 = Core.getfield(#self#, :basis)\u001b[36m::NTuple{200,var\"#24#26\"{Int64}}\u001b[39m\n",
      "\u001b[90m│  \u001b[39m %15 = Base.getindex(%14, i)\u001b[36m::var\"#24#26\"{Int64}\u001b[39m\n",
      "\u001b[90m│  \u001b[39m %16 = (%15)(x)\u001b[36m::Float64\u001b[39m\n",
      "\u001b[90m│  \u001b[39m %17 = (%13 * %16)\u001b[36m::Float64\u001b[39m\n",
      "\u001b[90m│  \u001b[39m       (out = %11 + %17)\n",
      "\u001b[90m│  \u001b[39m       (@_4 = Base.iterate(%3, %10))\n",
      "\u001b[90m│  \u001b[39m %20 = (@_4 === nothing)\u001b[36m::Bool\u001b[39m\n",
      "\u001b[90m│  \u001b[39m %21 = Base.not_int(%20)\u001b[36m::Bool\u001b[39m\n",
      "\u001b[90m└──\u001b[39m       goto #4 if not %21\n",
      "\u001b[90m3 ─\u001b[39m       goto #2\n",
      "\u001b[90m4 ┄\u001b[39m       return out\n"
     ]
    }
   ],
   "source": [
    "println()\n",
    "x = rand()\n",
    "@code_warntype f_zip(x)\n",
    "println(\"=\"^60)\n",
    "println(\"=\"^60)\n",
    "@code_warntype f_range(x)"
   ]
  },
  {
   "cell_type": "markdown",
   "metadata": {},
   "source": [
    "## 3. Generality vs Specifity"
   ]
  },
  {
   "cell_type": "markdown",
   "metadata": {},
   "source": [
    "__Conclusion__: Large variation in performance, and it varies which is best. In other words, no difference between generalized and specialized functions."
   ]
  },
  {
   "cell_type": "code",
   "execution_count": 9,
   "metadata": {},
   "outputs": [
    {
     "name": "stdout",
     "output_type": "stream",
     "text": [
      "  2.124550 seconds\n",
      "  2.092792 seconds\n"
     ]
    }
   ],
   "source": [
    "function build_function_general(weights, basis)\n",
    "    n = length(weights)\n",
    "    function (x)\n",
    "        out = 0.0\n",
    "        for i in 1:n\n",
    "            out += weights[i] * basis[i](x)\n",
    "        end\n",
    "        return out\n",
    "    end\n",
    "end\n",
    "\n",
    "function build_function_special(weights)\n",
    "    n = length(weights)\n",
    "    function (x)\n",
    "        out = 0.0\n",
    "        for i in 1:n\n",
    "            out += weights[i] * sin(2π*i*x)\n",
    "        end\n",
    "        return out\n",
    "    end\n",
    "end\n",
    "\n",
    "# Number of basis functions\n",
    "nmax = 200\n",
    "\n",
    "# Weights vector and the basis array\n",
    "W = rand(nmax)\n",
    "basis = Tuple([x -> sin(2π*n*x) for n in 1:nmax])\n",
    "\n",
    "# Create functions from basis, and evaluate single time\n",
    "f_general = build_function_general(W, basis)\n",
    "f_special = build_function_special(W)\n",
    "\n",
    "\n",
    "execute_many_times(f_general, 1)\n",
    "execute_many_times(f_special, 1)\n",
    "\n",
    "@time execute_many_times(f_general, N)\n",
    "@time execute_many_times(f_special, N)"
   ]
  },
  {
   "cell_type": "code",
   "execution_count": 10,
   "metadata": {},
   "outputs": [
    {
     "name": "stdout",
     "output_type": "stream",
     "text": [
      "\n",
      "Variables\n",
      "  #self#\u001b[36m::var\"#27#28\"{Array{Float64,1},NTuple{200,var\"#32#34\"{Int64}},Int64}\u001b[39m\n",
      "  x\u001b[36m::Float64\u001b[39m\n",
      "  out\u001b[36m::Float64\u001b[39m\n",
      "  @_4\u001b[33m\u001b[1m::Union{Nothing, Tuple{Int64,Int64}}\u001b[22m\u001b[39m\n",
      "  i\u001b[36m::Int64\u001b[39m\n",
      "\n",
      "Body\u001b[36m::Float64\u001b[39m\n",
      "\u001b[90m1 ─\u001b[39m       (out = 0.0)\n",
      "\u001b[90m│  \u001b[39m %2  = Core.getfield(#self#, :n)\u001b[36m::Int64\u001b[39m\n",
      "\u001b[90m│  \u001b[39m %3  = (1:%2)\u001b[36m::Core.Compiler.PartialStruct(UnitRange{Int64}, Any[Core.Compiler.Const(1, false), Int64])\u001b[39m\n",
      "\u001b[90m│  \u001b[39m       (@_4 = Base.iterate(%3))\n",
      "\u001b[90m│  \u001b[39m %5  = (@_4 === nothing)\u001b[36m::Bool\u001b[39m\n",
      "\u001b[90m│  \u001b[39m %6  = Base.not_int(%5)\u001b[36m::Bool\u001b[39m\n",
      "\u001b[90m└──\u001b[39m       goto #4 if not %6\n",
      "\u001b[90m2 ┄\u001b[39m %8  = @_4::Tuple{Int64,Int64}\u001b[36m::Tuple{Int64,Int64}\u001b[39m\n",
      "\u001b[90m│  \u001b[39m       (i = Core.getfield(%8, 1))\n",
      "\u001b[90m│  \u001b[39m %10 = Core.getfield(%8, 2)\u001b[36m::Int64\u001b[39m\n",
      "\u001b[90m│  \u001b[39m %11 = out\u001b[36m::Float64\u001b[39m\n",
      "\u001b[90m│  \u001b[39m %12 = Core.getfield(#self#, :weights)\u001b[36m::Array{Float64,1}\u001b[39m\n",
      "\u001b[90m│  \u001b[39m %13 = Base.getindex(%12, i)\u001b[36m::Float64\u001b[39m\n",
      "\u001b[90m│  \u001b[39m %14 = Core.getfield(#self#, :basis)\u001b[36m::NTuple{200,var\"#32#34\"{Int64}}\u001b[39m\n",
      "\u001b[90m│  \u001b[39m %15 = Base.getindex(%14, i)\u001b[36m::var\"#32#34\"{Int64}\u001b[39m\n",
      "\u001b[90m│  \u001b[39m %16 = (%15)(x)\u001b[36m::Float64\u001b[39m\n",
      "\u001b[90m│  \u001b[39m %17 = (%13 * %16)\u001b[36m::Float64\u001b[39m\n",
      "\u001b[90m│  \u001b[39m       (out = %11 + %17)\n",
      "\u001b[90m│  \u001b[39m       (@_4 = Base.iterate(%3, %10))\n",
      "\u001b[90m│  \u001b[39m %20 = (@_4 === nothing)\u001b[36m::Bool\u001b[39m\n",
      "\u001b[90m│  \u001b[39m %21 = Base.not_int(%20)\u001b[36m::Bool\u001b[39m\n",
      "\u001b[90m└──\u001b[39m       goto #4 if not %21\n",
      "\u001b[90m3 ─\u001b[39m       goto #2\n",
      "\u001b[90m4 ┄\u001b[39m       return out\n",
      "============================================================\n",
      "============================================================\n",
      "Variables\n",
      "  #self#\u001b[36m::var\"#29#30\"{Array{Float64,1},Int64}\u001b[39m\n",
      "  x\u001b[36m::Float64\u001b[39m\n",
      "  out\u001b[36m::Float64\u001b[39m\n",
      "  @_4\u001b[33m\u001b[1m::Union{Nothing, Tuple{Int64,Int64}}\u001b[22m\u001b[39m\n",
      "  i\u001b[36m::Int64\u001b[39m\n",
      "\n",
      "Body\u001b[36m::Float64\u001b[39m\n",
      "\u001b[90m1 ─\u001b[39m       (out = 0.0)\n",
      "\u001b[90m│  \u001b[39m %2  = Core.getfield(#self#, :n)\u001b[36m::Int64\u001b[39m\n",
      "\u001b[90m│  \u001b[39m %3  = (1:%2)\u001b[36m::Core.Compiler.PartialStruct(UnitRange{Int64}, Any[Core.Compiler.Const(1, false), Int64])\u001b[39m\n",
      "\u001b[90m│  \u001b[39m       (@_4 = Base.iterate(%3))\n",
      "\u001b[90m│  \u001b[39m %5  = (@_4 === nothing)\u001b[36m::Bool\u001b[39m\n",
      "\u001b[90m│  \u001b[39m %6  = Base.not_int(%5)\u001b[36m::Bool\u001b[39m\n",
      "\u001b[90m└──\u001b[39m       goto #4 if not %6\n",
      "\u001b[90m2 ┄\u001b[39m %8  = @_4::Tuple{Int64,Int64}\u001b[36m::Tuple{Int64,Int64}\u001b[39m\n",
      "\u001b[90m│  \u001b[39m       (i = Core.getfield(%8, 1))\n",
      "\u001b[90m│  \u001b[39m %10 = Core.getfield(%8, 2)\u001b[36m::Int64\u001b[39m\n",
      "\u001b[90m│  \u001b[39m %11 = out\u001b[36m::Float64\u001b[39m\n",
      "\u001b[90m│  \u001b[39m %12 = Core.getfield(#self#, :weights)\u001b[36m::Array{Float64,1}\u001b[39m\n",
      "\u001b[90m│  \u001b[39m %13 = Base.getindex(%12, i)\u001b[36m::Float64\u001b[39m\n",
      "\u001b[90m│  \u001b[39m %14 = (2 * Main.π)\u001b[36m::Core.Compiler.Const(6.283185307179586, false)\u001b[39m\n",
      "\u001b[90m│  \u001b[39m %15 = i\u001b[36m::Int64\u001b[39m\n",
      "\u001b[90m│  \u001b[39m %16 = (%14 * %15 * x)\u001b[36m::Float64\u001b[39m\n",
      "\u001b[90m│  \u001b[39m %17 = Main.sin(%16)\u001b[36m::Float64\u001b[39m\n",
      "\u001b[90m│  \u001b[39m %18 = (%13 * %17)\u001b[36m::Float64\u001b[39m\n",
      "\u001b[90m│  \u001b[39m       (out = %11 + %18)\n",
      "\u001b[90m│  \u001b[39m       (@_4 = Base.iterate(%3, %10))\n",
      "\u001b[90m│  \u001b[39m %21 = (@_4 === nothing)\u001b[36m::Bool\u001b[39m\n",
      "\u001b[90m│  \u001b[39m %22 = Base.not_int(%21)\u001b[36m::Bool\u001b[39m\n",
      "\u001b[90m└──\u001b[39m       goto #4 if not %22\n",
      "\u001b[90m3 ─\u001b[39m       goto #2\n",
      "\u001b[90m4 ┄\u001b[39m       return out\n"
     ]
    }
   ],
   "source": [
    "println()\n",
    "x = rand()\n",
    "@code_warntype f_general(x)\n",
    "println(\"=\"^60)\n",
    "println(\"=\"^60)\n",
    "@code_warntype f_special(x)"
   ]
  },
  {
   "cell_type": "markdown",
   "metadata": {},
   "source": [
    "## 4. Comparison Specific vs. General Inner Product"
   ]
  },
  {
   "cell_type": "markdown",
   "metadata": {},
   "source": [
    "__Conclusion__: Choose any of the l2 inner product variants, instead of defining the pointwise product beforehand."
   ]
  },
  {
   "cell_type": "code",
   "execution_count": 11,
   "metadata": {},
   "outputs": [
    {
     "ename": "LoadError",
     "evalue": "UndefVarError: integrate not defined",
     "output_type": "error",
     "traceback": [
      "UndefVarError: integrate not defined",
      "",
      "Stacktrace:",
      " [1] top-level scope at In[11]:46",
      " [2] include_string(::Function, ::Module, ::String, ::String) at ./loading.jl:1091"
     ]
    }
   ],
   "source": [
    "function integrate_many_times(N, integrator, args...)\n",
    "    for i in 1:N\n",
    "        integrator(args...)\n",
    "    end\n",
    "end\n",
    "        \n",
    "\n",
    "function pointwise_product(f, g)\n",
    "    function (x)\n",
    "        return f(x) * g(x)\n",
    "    end\n",
    "end\n",
    "\n",
    "function adaptive(f)\n",
    "    return quadgk(f, 0, 1)[1]\n",
    "end\n",
    "\n",
    "function l2_inner_product(f, g)\n",
    "    return quadgk(x -> f(x) * g(x), 0, 1)[1]\n",
    "end\n",
    "\n",
    "function l2_inner_product_spec(f, g)\n",
    "    spec = pointwise_product(f, g)\n",
    "    return quadgk(spec, 0, 1)[1]\n",
    "end\n",
    "\n",
    "function l2_inner_product_spec2(f, g)\n",
    "    spec = x -> f(x) * g(x)\n",
    "    return quadgk(spec, 0, 1)[1]\n",
    "end\n",
    "\n",
    "function l2_inner_product_spec2(f, g)\n",
    "    spec = x -> f(x) * g(x)\n",
    "    return quadgk(spec, 0, 1)[1]\n",
    "end\n",
    "\n",
    "function l2_inner_product_spec3(f, g)\n",
    "    spec = x -> f(x) * g(x)\n",
    "    return integrate(spec, adaptive)\n",
    "end\n",
    "\n",
    "\n",
    "prod_f_g = pointwise_product(F, G)\n",
    "prod_f_g(0.1)\n",
    "\n",
    "integrate_many_times(1, integrate, prod_f_g)\n",
    "integrate_many_times(1, l2_inner_product, F, G)\n",
    "integrate_many_times(1, l2_inner_product_spec, F, G)\n",
    "integrate_many_times(1, l2_inner_product_spec2, F, G)\n",
    "integrate_many_times(1, l2_inner_product_spec3, F, G)\n",
    "\n",
    "\n",
    "\n",
    "@time integrate_many_times(100000, integrate, prod_f_g)\n",
    "@time integrate_many_times(100000, l2_inner_product, F, G)\n",
    "@time integrate_many_times(100000, l2_inner_product_spec, F, G)\n",
    "@time integrate_many_times(100000, l2_inner_product_spec2, F, G)\n",
    "@time integrate_many_times(100000, l2_inner_product_spec3, F, G)"
   ]
  },
  {
   "cell_type": "code",
   "execution_count": 12,
   "metadata": {},
   "outputs": [
    {
     "data": {
      "text/plain": [
       "integrate (generic function with 1 method)"
      ]
     },
     "execution_count": 12,
     "metadata": {},
     "output_type": "execute_result"
    }
   ],
   "source": [
    "function integrate(f, integrator)\n",
    "    return integrator(f)\n",
    "end"
   ]
  },
  {
   "cell_type": "code",
   "execution_count": 13,
   "metadata": {},
   "outputs": [
    {
     "ename": "LoadError",
     "evalue": "expression is not a function call or symbol",
     "output_type": "error",
     "traceback": [
      "expression is not a function call or symbol",
      "",
      "Stacktrace:",
      " [1] error(::String) at ./error.jl:33",
      " [2] top-level scope at In[13]:1",
      " [3] include_string(::Function, ::Module, ::String, ::String) at ./loading.jl:1091"
     ]
    }
   ],
   "source": [
    "@code_warntype(l2_inner_product_spec3)"
   ]
  },
  {
   "cell_type": "code",
   "execution_count": 14,
   "metadata": {},
   "outputs": [
    {
     "name": "stdout",
     "output_type": "stream",
     "text": [
      "============================================================\n",
      "============================================================\n",
      "Variables\n",
      "  #self#\u001b[36m::Core.Compiler.Const(l2_inner_product, false)\u001b[39m\n",
      "  f\u001b[36m::Core.Compiler.Const(F, false)\u001b[39m\n",
      "  g\u001b[36m::Core.Compiler.Const(G, false)\u001b[39m\n",
      "  #37\u001b[36m::var\"#37#38\"{typeof(F),typeof(G)}\u001b[39m\n",
      "\n",
      "Body\u001b[36m::Float64\u001b[39m\n",
      "\u001b[90m1 ─\u001b[39m %1 = Main.:(var\"#37#38\")\u001b[36m::Core.Compiler.Const(var\"#37#38\", false)\u001b[39m\n",
      "\u001b[90m│  \u001b[39m %2 = Core.typeof(f)\u001b[36m::Core.Compiler.Const(typeof(F), false)\u001b[39m\n",
      "\u001b[90m│  \u001b[39m %3 = Core.typeof(g)\u001b[36m::Core.Compiler.Const(typeof(G), false)\u001b[39m\n",
      "\u001b[90m│  \u001b[39m %4 = Core.apply_type(%1, %2, %3)\u001b[36m::Core.Compiler.Const(var\"#37#38\"{typeof(F),typeof(G)}, false)\u001b[39m\n",
      "\u001b[90m│  \u001b[39m      (#37 = %new(%4, f, g))\n",
      "\u001b[90m│  \u001b[39m %6 = #37\u001b[36m::Core.Compiler.Const(var\"#37#38\"{typeof(F),typeof(G)}(F, G), false)\u001b[39m\n",
      "\u001b[90m│  \u001b[39m %7 = Main.quadgk(%6, 0, 1)\u001b[36m::Tuple{Float64,Float64}\u001b[39m\n",
      "\u001b[90m│  \u001b[39m %8 = Base.getindex(%7, 1)\u001b[36m::Float64\u001b[39m\n",
      "\u001b[90m└──\u001b[39m      return %8\n"
     ]
    }
   ],
   "source": [
    "@code_warntype integrate(prod_f_g)\n",
    "println(\"=\"^60)\n",
    "println(\"=\"^60)\n",
    "@code_warntype l2_inner_product(F, G)"
   ]
  },
  {
   "cell_type": "markdown",
   "metadata": {},
   "source": [
    "### Test Types for a Fourier Sine Expansion"
   ]
  },
  {
   "cell_type": "code",
   "execution_count": 15,
   "metadata": {},
   "outputs": [
    {
     "ename": "LoadError",
     "evalue": "MethodError: no method matching integrate(::var\"#35#36\"{var\"#1#2\"{Array{Float64,1},NTuple{200,var\"#46#48\"{Int64}}},var\"#1#2\"{Array{Float64,1},NTuple{200,var\"#46#48\"{Int64}}}})\nClosest candidates are:\n  integrate(::Any, !Matched::Any) at In[12]:1",
     "output_type": "error",
     "traceback": [
      "MethodError: no method matching integrate(::var\"#35#36\"{var\"#1#2\"{Array{Float64,1},NTuple{200,var\"#46#48\"{Int64}}},var\"#1#2\"{Array{Float64,1},NTuple{200,var\"#46#48\"{Int64}}}})\nClosest candidates are:\n  integrate(::Any, !Matched::Any) at In[12]:1",
      "",
      "Stacktrace:",
      " [1] integrate_many_times(::Int64, ::Function, ::Function) at ./In[11]:3",
      " [2] top-level scope at In[15]:18",
      " [3] include_string(::Function, ::Module, ::String, ::String) at ./loading.jl:1091"
     ]
    }
   ],
   "source": [
    "# Number of basis functions\n",
    "nmax = 200\n",
    "\n",
    "# Weights vector and the basis array\n",
    "W = rand(nmax)\n",
    "basis = Tuple([x -> sin(2π*n*x) for n in 1:nmax])\n",
    "\n",
    "f = build_function(W, basis)\n",
    "g = build_function(W, basis)\n",
    "prod_f_g = pointwise_product(f, g)\n",
    "\n",
    "\n",
    "execute_many_times(f, 1)\n",
    "execute_many_times(g, 1)\n",
    "execute_many_times(prod_f_g, 1)\n",
    "\n",
    "\n",
    "integrate_many_times(1, integrate, prod_f_g)\n",
    "integrate_many_times(1, l2_inner_product, F, G)\n",
    "integrate_many_times(1, l2_inner_product_spec, F, G)\n",
    "\n",
    "\n",
    "@time integrate_many_times(10, integrate, prod_f_g)\n",
    "@time integrate_many_times(10, l2_inner_product, f, g)\n",
    "@time integrate_many_times(10, l2_inner_product_spec, f, g)"
   ]
  },
  {
   "cell_type": "markdown",
   "metadata": {},
   "source": [
    "## Compare struct functions "
   ]
  },
  {
   "cell_type": "code",
   "execution_count": 32,
   "metadata": {},
   "outputs": [
    {
     "name": "stdout",
     "output_type": "stream",
     "text": [
      "  0.006129 seconds (200.00 k allocations: 3.052 MiB)\n",
      "  0.003963 seconds\n",
      "  0.004363 seconds\n",
      "  0.004492 seconds\n"
     ]
    }
   ],
   "source": [
    "mutable struct FunctionStruct\n",
    "    weights\n",
    "    basis\n",
    "    call\n",
    "end\n",
    "\n",
    "FunctionStruct(weights, basis) = FunctionStruct(weights, basis, build_function(weights, basis))\n",
    "\n",
    "function (fs::FunctionStruct)(x)\n",
    "    fs.call(x)::Float64\n",
    "end\n",
    "\n",
    "# Weights vector and the basis array\n",
    "nmax = 3\n",
    "W = rand(nmax)\n",
    "basis = Tuple([x -> sin(2π*n*x) for n in 1:nmax])\n",
    "\n",
    "f = build_function(W, basis)\n",
    "g = FunctionStruct(W, basis, f)\n",
    "g2 = FunctionStruct(W, basis)\n",
    "\n",
    "\n",
    "execute_many_times(f, 1)\n",
    "execute_many_times(g, 1)\n",
    "execute_many_times(g.call, 1)\n",
    "execute_many_times(g2.call, 1)\n",
    "\n",
    "\n",
    "\n",
    "N = 100000\n",
    "@time execute_many_times(g, N)\n",
    "@time execute_many_times(g.call, N)\n",
    "@time execute_many_times(g2.call, N)\n",
    "@time execute_many_times(f, N)"
   ]
  },
  {
   "cell_type": "code",
   "execution_count": 18,
   "metadata": {},
   "outputs": [
    {
     "name": "stdout",
     "output_type": "stream",
     "text": [
      "Variables\n",
      "  #self#\u001b[36m::var\"#1#2\"{Array{Float64,1},Tuple{var\"#50#52\"{Int64},var\"#50#52\"{Int64},var\"#50#52\"{Int64}}}\u001b[39m\n",
      "  x\u001b[36m::Float64\u001b[39m\n",
      "  out\u001b[36m::Float64\u001b[39m\n",
      "  @_4\u001b[33m\u001b[1m::Union{Nothing, Tuple{Tuple{Float64,var\"#50#52\"{Int64}},Tuple{Int64,Int64}}}\u001b[22m\u001b[39m\n",
      "  wi\u001b[36m::Float64\u001b[39m\n",
      "  bi\u001b[36m::var\"#50#52\"{Int64}\u001b[39m\n",
      "  @_7\u001b[36m::Int64\u001b[39m\n",
      "\n",
      "Body\u001b[36m::Float64\u001b[39m\n",
      "\u001b[90m1 ─\u001b[39m       (out = 0.0)\n",
      "\u001b[90m│  \u001b[39m %2  = Core.getfield(#self#, :weights)\u001b[36m::Array{Float64,1}\u001b[39m\n",
      "\u001b[90m│  \u001b[39m %3  = Core.getfield(#self#, :basis)\u001b[36m::Tuple{var\"#50#52\"{Int64},var\"#50#52\"{Int64},var\"#50#52\"{Int64}}\u001b[39m\n",
      "\u001b[90m│  \u001b[39m %4  = Main.zip(%2, %3)\u001b[36m::Base.Iterators.Zip{Tuple{Array{Float64,1},Tuple{var\"#50#52\"{Int64},var\"#50#52\"{Int64},var\"#50#52\"{Int64}}}}\u001b[39m\n",
      "\u001b[90m│  \u001b[39m       (@_4 = Base.iterate(%4))\n",
      "\u001b[90m│  \u001b[39m %6  = (@_4 === nothing)\u001b[36m::Bool\u001b[39m\n",
      "\u001b[90m│  \u001b[39m %7  = Base.not_int(%6)\u001b[36m::Bool\u001b[39m\n",
      "\u001b[90m└──\u001b[39m       goto #4 if not %7\n",
      "\u001b[90m2 ┄\u001b[39m %9  = @_4::Tuple{Tuple{Float64,var\"#50#52\"{Int64}},Tuple{Int64,Int64}}\u001b[36m::Tuple{Tuple{Float64,var\"#50#52\"{Int64}},Tuple{Int64,Int64}}\u001b[39m\n",
      "\u001b[90m│  \u001b[39m %10 = Core.getfield(%9, 1)\u001b[36m::Tuple{Float64,var\"#50#52\"{Int64}}\u001b[39m\n",
      "\u001b[90m│  \u001b[39m %11 = Base.indexed_iterate(%10, 1)\u001b[36m::Core.Compiler.PartialStruct(Tuple{Float64,Int64}, Any[Float64, Core.Compiler.Const(2, false)])\u001b[39m\n",
      "\u001b[90m│  \u001b[39m       (wi = Core.getfield(%11, 1))\n",
      "\u001b[90m│  \u001b[39m       (@_7 = Core.getfield(%11, 2))\n",
      "\u001b[90m│  \u001b[39m %14 = Base.indexed_iterate(%10, 2, @_7::Core.Compiler.Const(2, false))\u001b[36m::Core.Compiler.PartialStruct(Tuple{var\"#50#52\"{Int64},Int64}, Any[var\"#50#52\"{Int64}, Core.Compiler.Const(3, false)])\u001b[39m\n",
      "\u001b[90m│  \u001b[39m       (bi = Core.getfield(%14, 1))\n",
      "\u001b[90m│  \u001b[39m %16 = Core.getfield(%9, 2)\u001b[36m::Tuple{Int64,Int64}\u001b[39m\n",
      "\u001b[90m│  \u001b[39m %17 = out\u001b[36m::Float64\u001b[39m\n",
      "\u001b[90m│  \u001b[39m %18 = wi\u001b[36m::Float64\u001b[39m\n",
      "\u001b[90m│  \u001b[39m %19 = (bi)(x)\u001b[36m::Float64\u001b[39m\n",
      "\u001b[90m│  \u001b[39m %20 = (%18 * %19)\u001b[36m::Float64\u001b[39m\n",
      "\u001b[90m│  \u001b[39m       (out = %17 + %20)\n",
      "\u001b[90m│  \u001b[39m       (@_4 = Base.iterate(%4, %16))\n",
      "\u001b[90m│  \u001b[39m %23 = (@_4 === nothing)\u001b[36m::Bool\u001b[39m\n",
      "\u001b[90m│  \u001b[39m %24 = Base.not_int(%23)\u001b[36m::Bool\u001b[39m\n",
      "\u001b[90m└──\u001b[39m       goto #4 if not %24\n",
      "\u001b[90m3 ─\u001b[39m       goto #2\n",
      "\u001b[90m4 ┄\u001b[39m       return out\n"
     ]
    }
   ],
   "source": [
    "@code_warntype f(x)"
   ]
  },
  {
   "cell_type": "code",
   "execution_count": 19,
   "metadata": {},
   "outputs": [
    {
     "name": "stdout",
     "output_type": "stream",
     "text": [
      "Variables\n",
      "  #self#\u001b[36m::var\"#1#2\"{Array{Float64,1},Tuple{var\"#50#52\"{Int64},var\"#50#52\"{Int64},var\"#50#52\"{Int64}}}\u001b[39m\n",
      "  x\u001b[36m::Float64\u001b[39m\n",
      "  out\u001b[36m::Float64\u001b[39m\n",
      "  @_4\u001b[33m\u001b[1m::Union{Nothing, Tuple{Tuple{Float64,var\"#50#52\"{Int64}},Tuple{Int64,Int64}}}\u001b[22m\u001b[39m\n",
      "  wi\u001b[36m::Float64\u001b[39m\n",
      "  bi\u001b[36m::var\"#50#52\"{Int64}\u001b[39m\n",
      "  @_7\u001b[36m::Int64\u001b[39m\n",
      "\n",
      "Body\u001b[36m::Float64\u001b[39m\n",
      "\u001b[90m1 ─\u001b[39m       (out = 0.0)\n",
      "\u001b[90m│  \u001b[39m %2  = Core.getfield(#self#, :weights)\u001b[36m::Array{Float64,1}\u001b[39m\n",
      "\u001b[90m│  \u001b[39m %3  = Core.getfield(#self#, :basis)\u001b[36m::Tuple{var\"#50#52\"{Int64},var\"#50#52\"{Int64},var\"#50#52\"{Int64}}\u001b[39m\n",
      "\u001b[90m│  \u001b[39m %4  = Main.zip(%2, %3)\u001b[36m::Base.Iterators.Zip{Tuple{Array{Float64,1},Tuple{var\"#50#52\"{Int64},var\"#50#52\"{Int64},var\"#50#52\"{Int64}}}}\u001b[39m\n",
      "\u001b[90m│  \u001b[39m       (@_4 = Base.iterate(%4))\n",
      "\u001b[90m│  \u001b[39m %6  = (@_4 === nothing)\u001b[36m::Bool\u001b[39m\n",
      "\u001b[90m│  \u001b[39m %7  = Base.not_int(%6)\u001b[36m::Bool\u001b[39m\n",
      "\u001b[90m└──\u001b[39m       goto #4 if not %7\n",
      "\u001b[90m2 ┄\u001b[39m %9  = @_4::Tuple{Tuple{Float64,var\"#50#52\"{Int64}},Tuple{Int64,Int64}}\u001b[36m::Tuple{Tuple{Float64,var\"#50#52\"{Int64}},Tuple{Int64,Int64}}\u001b[39m\n",
      "\u001b[90m│  \u001b[39m %10 = Core.getfield(%9, 1)\u001b[36m::Tuple{Float64,var\"#50#52\"{Int64}}\u001b[39m\n",
      "\u001b[90m│  \u001b[39m %11 = Base.indexed_iterate(%10, 1)\u001b[36m::Core.Compiler.PartialStruct(Tuple{Float64,Int64}, Any[Float64, Core.Compiler.Const(2, false)])\u001b[39m\n",
      "\u001b[90m│  \u001b[39m       (wi = Core.getfield(%11, 1))\n",
      "\u001b[90m│  \u001b[39m       (@_7 = Core.getfield(%11, 2))\n",
      "\u001b[90m│  \u001b[39m %14 = Base.indexed_iterate(%10, 2, @_7::Core.Compiler.Const(2, false))\u001b[36m::Core.Compiler.PartialStruct(Tuple{var\"#50#52\"{Int64},Int64}, Any[var\"#50#52\"{Int64}, Core.Compiler.Const(3, false)])\u001b[39m\n",
      "\u001b[90m│  \u001b[39m       (bi = Core.getfield(%14, 1))\n",
      "\u001b[90m│  \u001b[39m %16 = Core.getfield(%9, 2)\u001b[36m::Tuple{Int64,Int64}\u001b[39m\n",
      "\u001b[90m│  \u001b[39m %17 = out\u001b[36m::Float64\u001b[39m\n",
      "\u001b[90m│  \u001b[39m %18 = wi\u001b[36m::Float64\u001b[39m\n",
      "\u001b[90m│  \u001b[39m %19 = (bi)(x)\u001b[36m::Float64\u001b[39m\n",
      "\u001b[90m│  \u001b[39m %20 = (%18 * %19)\u001b[36m::Float64\u001b[39m\n",
      "\u001b[90m│  \u001b[39m       (out = %17 + %20)\n",
      "\u001b[90m│  \u001b[39m       (@_4 = Base.iterate(%4, %16))\n",
      "\u001b[90m│  \u001b[39m %23 = (@_4 === nothing)\u001b[36m::Bool\u001b[39m\n",
      "\u001b[90m│  \u001b[39m %24 = Base.not_int(%23)\u001b[36m::Bool\u001b[39m\n",
      "\u001b[90m└──\u001b[39m       goto #4 if not %24\n",
      "\u001b[90m3 ─\u001b[39m       goto #2\n",
      "\u001b[90m4 ┄\u001b[39m       return out\n"
     ]
    }
   ],
   "source": [
    "@code_warntype g.call(x)"
   ]
  }
 ],
 "metadata": {
  "kernelspec": {
   "display_name": "Julia 1.5.1",
   "language": "julia",
   "name": "julia-1.5"
  },
  "language_info": {
   "file_extension": ".jl",
   "mimetype": "application/julia",
   "name": "julia",
   "version": "1.5.1"
  }
 },
 "nbformat": 4,
 "nbformat_minor": 4
}
